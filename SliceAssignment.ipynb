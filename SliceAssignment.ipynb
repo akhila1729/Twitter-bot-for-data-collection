{
  "nbformat": 4,
  "nbformat_minor": 0,
  "metadata": {
    "colab": {
      "name": "SliceAssignment.ipynb",
      "provenance": []
    },
    "kernelspec": {
      "name": "python3",
      "display_name": "Python 3"
    },
    "language_info": {
      "name": "python"
    }
  },
  "cells": [
    {
      "cell_type": "code",
      "metadata": {
        "colab": {
          "base_uri": "https://localhost:8080/"
        },
        "id": "xVQhJx0_R1CE",
        "outputId": "098d7382-7ae6-4f31-eb92-e233ea93e3ac"
      },
      "source": [
        "pip install selenium pandas"
      ],
      "execution_count": null,
      "outputs": [
        {
          "output_type": "stream",
          "text": [
            "Collecting selenium\n",
            "\u001b[?25l  Downloading https://files.pythonhosted.org/packages/80/d6/4294f0b4bce4de0abf13e17190289f9d0613b0a44e5dd6a7f5ca98459853/selenium-3.141.0-py2.py3-none-any.whl (904kB)\n",
            "\r\u001b[K     |▍                               | 10kB 14.8MB/s eta 0:00:01\r\u001b[K     |▊                               | 20kB 19.5MB/s eta 0:00:01\r\u001b[K     |█                               | 30kB 24.0MB/s eta 0:00:01\r\u001b[K     |█▌                              | 40kB 22.1MB/s eta 0:00:01\r\u001b[K     |█▉                              | 51kB 16.8MB/s eta 0:00:01\r\u001b[K     |██▏                             | 61kB 13.6MB/s eta 0:00:01\r\u001b[K     |██▌                             | 71kB 12.3MB/s eta 0:00:01\r\u001b[K     |███                             | 81kB 13.2MB/s eta 0:00:01\r\u001b[K     |███▎                            | 92kB 13.2MB/s eta 0:00:01\r\u001b[K     |███▋                            | 102kB 14.2MB/s eta 0:00:01\r\u001b[K     |████                            | 112kB 14.2MB/s eta 0:00:01\r\u001b[K     |████▍                           | 122kB 14.2MB/s eta 0:00:01\r\u001b[K     |████▊                           | 133kB 14.2MB/s eta 0:00:01\r\u001b[K     |█████                           | 143kB 14.2MB/s eta 0:00:01\r\u001b[K     |█████▍                          | 153kB 14.2MB/s eta 0:00:01\r\u001b[K     |█████▉                          | 163kB 14.2MB/s eta 0:00:01\r\u001b[K     |██████▏                         | 174kB 14.2MB/s eta 0:00:01\r\u001b[K     |██████▌                         | 184kB 14.2MB/s eta 0:00:01\r\u001b[K     |██████▉                         | 194kB 14.2MB/s eta 0:00:01\r\u001b[K     |███████▎                        | 204kB 14.2MB/s eta 0:00:01\r\u001b[K     |███████▋                        | 215kB 14.2MB/s eta 0:00:01\r\u001b[K     |████████                        | 225kB 14.2MB/s eta 0:00:01\r\u001b[K     |████████▎                       | 235kB 14.2MB/s eta 0:00:01\r\u001b[K     |████████▊                       | 245kB 14.2MB/s eta 0:00:01\r\u001b[K     |█████████                       | 256kB 14.2MB/s eta 0:00:01\r\u001b[K     |█████████▍                      | 266kB 14.2MB/s eta 0:00:01\r\u001b[K     |█████████▉                      | 276kB 14.2MB/s eta 0:00:01\r\u001b[K     |██████████▏                     | 286kB 14.2MB/s eta 0:00:01\r\u001b[K     |██████████▌                     | 296kB 14.2MB/s eta 0:00:01\r\u001b[K     |██████████▉                     | 307kB 14.2MB/s eta 0:00:01\r\u001b[K     |███████████▎                    | 317kB 14.2MB/s eta 0:00:01\r\u001b[K     |███████████▋                    | 327kB 14.2MB/s eta 0:00:01\r\u001b[K     |████████████                    | 337kB 14.2MB/s eta 0:00:01\r\u001b[K     |████████████▎                   | 348kB 14.2MB/s eta 0:00:01\r\u001b[K     |████████████▊                   | 358kB 14.2MB/s eta 0:00:01\r\u001b[K     |█████████████                   | 368kB 14.2MB/s eta 0:00:01\r\u001b[K     |█████████████▍                  | 378kB 14.2MB/s eta 0:00:01\r\u001b[K     |█████████████▊                  | 389kB 14.2MB/s eta 0:00:01\r\u001b[K     |██████████████▏                 | 399kB 14.2MB/s eta 0:00:01\r\u001b[K     |██████████████▌                 | 409kB 14.2MB/s eta 0:00:01\r\u001b[K     |██████████████▉                 | 419kB 14.2MB/s eta 0:00:01\r\u001b[K     |███████████████▏                | 430kB 14.2MB/s eta 0:00:01\r\u001b[K     |███████████████▋                | 440kB 14.2MB/s eta 0:00:01\r\u001b[K     |████████████████                | 450kB 14.2MB/s eta 0:00:01\r\u001b[K     |████████████████▎               | 460kB 14.2MB/s eta 0:00:01\r\u001b[K     |████████████████▋               | 471kB 14.2MB/s eta 0:00:01\r\u001b[K     |█████████████████               | 481kB 14.2MB/s eta 0:00:01\r\u001b[K     |█████████████████▍              | 491kB 14.2MB/s eta 0:00:01\r\u001b[K     |█████████████████▊              | 501kB 14.2MB/s eta 0:00:01\r\u001b[K     |██████████████████▏             | 512kB 14.2MB/s eta 0:00:01\r\u001b[K     |██████████████████▌             | 522kB 14.2MB/s eta 0:00:01\r\u001b[K     |██████████████████▉             | 532kB 14.2MB/s eta 0:00:01\r\u001b[K     |███████████████████▏            | 542kB 14.2MB/s eta 0:00:01\r\u001b[K     |███████████████████▋            | 552kB 14.2MB/s eta 0:00:01\r\u001b[K     |████████████████████            | 563kB 14.2MB/s eta 0:00:01\r\u001b[K     |████████████████████▎           | 573kB 14.2MB/s eta 0:00:01\r\u001b[K     |████████████████████▋           | 583kB 14.2MB/s eta 0:00:01\r\u001b[K     |█████████████████████           | 593kB 14.2MB/s eta 0:00:01\r\u001b[K     |█████████████████████▍          | 604kB 14.2MB/s eta 0:00:01\r\u001b[K     |█████████████████████▊          | 614kB 14.2MB/s eta 0:00:01\r\u001b[K     |██████████████████████          | 624kB 14.2MB/s eta 0:00:01\r\u001b[K     |██████████████████████▌         | 634kB 14.2MB/s eta 0:00:01\r\u001b[K     |██████████████████████▉         | 645kB 14.2MB/s eta 0:00:01\r\u001b[K     |███████████████████████▏        | 655kB 14.2MB/s eta 0:00:01\r\u001b[K     |███████████████████████▌        | 665kB 14.2MB/s eta 0:00:01\r\u001b[K     |████████████████████████        | 675kB 14.2MB/s eta 0:00:01\r\u001b[K     |████████████████████████▎       | 686kB 14.2MB/s eta 0:00:01\r\u001b[K     |████████████████████████▋       | 696kB 14.2MB/s eta 0:00:01\r\u001b[K     |█████████████████████████       | 706kB 14.2MB/s eta 0:00:01\r\u001b[K     |█████████████████████████▍      | 716kB 14.2MB/s eta 0:00:01\r\u001b[K     |█████████████████████████▊      | 727kB 14.2MB/s eta 0:00:01\r\u001b[K     |██████████████████████████      | 737kB 14.2MB/s eta 0:00:01\r\u001b[K     |██████████████████████████▍     | 747kB 14.2MB/s eta 0:00:01\r\u001b[K     |██████████████████████████▉     | 757kB 14.2MB/s eta 0:00:01\r\u001b[K     |███████████████████████████▏    | 768kB 14.2MB/s eta 0:00:01\r\u001b[K     |███████████████████████████▌    | 778kB 14.2MB/s eta 0:00:01\r\u001b[K     |████████████████████████████    | 788kB 14.2MB/s eta 0:00:01\r\u001b[K     |████████████████████████████▎   | 798kB 14.2MB/s eta 0:00:01\r\u001b[K     |████████████████████████████▋   | 808kB 14.2MB/s eta 0:00:01\r\u001b[K     |█████████████████████████████   | 819kB 14.2MB/s eta 0:00:01\r\u001b[K     |█████████████████████████████▍  | 829kB 14.2MB/s eta 0:00:01\r\u001b[K     |█████████████████████████████▊  | 839kB 14.2MB/s eta 0:00:01\r\u001b[K     |██████████████████████████████  | 849kB 14.2MB/s eta 0:00:01\r\u001b[K     |██████████████████████████████▍ | 860kB 14.2MB/s eta 0:00:01\r\u001b[K     |██████████████████████████████▉ | 870kB 14.2MB/s eta 0:00:01\r\u001b[K     |███████████████████████████████▏| 880kB 14.2MB/s eta 0:00:01\r\u001b[K     |███████████████████████████████▌| 890kB 14.2MB/s eta 0:00:01\r\u001b[K     |███████████████████████████████▉| 901kB 14.2MB/s eta 0:00:01\r\u001b[K     |████████████████████████████████| 911kB 14.2MB/s \n",
            "\u001b[?25hRequirement already satisfied: pandas in /usr/local/lib/python3.7/dist-packages (1.1.5)\n",
            "Requirement already satisfied: urllib3 in /usr/local/lib/python3.7/dist-packages (from selenium) (1.24.3)\n",
            "Requirement already satisfied: numpy>=1.15.4 in /usr/local/lib/python3.7/dist-packages (from pandas) (1.19.5)\n",
            "Requirement already satisfied: pytz>=2017.2 in /usr/local/lib/python3.7/dist-packages (from pandas) (2018.9)\n",
            "Requirement already satisfied: python-dateutil>=2.7.3 in /usr/local/lib/python3.7/dist-packages (from pandas) (2.8.1)\n",
            "Requirement already satisfied: six>=1.5 in /usr/local/lib/python3.7/dist-packages (from python-dateutil>=2.7.3->pandas) (1.15.0)\n",
            "Installing collected packages: selenium\n",
            "Successfully installed selenium-3.141.0\n"
          ],
          "name": "stdout"
        }
      ]
    },
    {
      "cell_type": "code",
      "metadata": {
        "colab": {
          "base_uri": "https://localhost:8080/"
        },
        "id": "6aO3eM1FfUvK",
        "outputId": "83977226-71f7-45d1-ed63-cb7023e67e0a"
      },
      "source": [
        "from google.colab import drive\n",
        "drive.mount('/content/gdrive')"
      ],
      "execution_count": null,
      "outputs": [
        {
          "output_type": "stream",
          "text": [
            "Drive already mounted at /content/gdrive; to attempt to forcibly remount, call drive.mount(\"/content/gdrive\", force_remount=True).\n"
          ],
          "name": "stdout"
        }
      ]
    },
    {
      "cell_type": "markdown",
      "metadata": {
        "id": "RqV1MfS-YoEl"
      },
      "source": [
        "Code for posting tweets"
      ]
    },
    {
      "cell_type": "code",
      "metadata": {
        "id": "D7N9z7YhVRSu"
      },
      "source": [
        "import tweepy"
      ],
      "execution_count": null,
      "outputs": []
    },
    {
      "cell_type": "code",
      "metadata": {
        "id": "-cnuTRbAVidF"
      },
      "source": [
        "#my twitter account's key, if you use this keys, tweets will be posted in my account\n",
        "#So make a twitter account, apply for developer profile... then you will get the keys\n",
        "consumer_key = \"g8CXca2B3q9dq2DsVWi7L3xEZ\"\n",
        "consumer_secret = \"qCyMR2D4BEiI7Uuhmv1rredpj2lhQxCL4hHPa3iliWlle1nMv7\"\n",
        "access_token = \"1410950779913990144-husWMAhCKJskjfVwug1Wb9PZ32qZPI\"\n",
        "access_token_secret = \"wTVr17ilI6XkgesNwUaazYtKQB4vy0E665Zjve1gY8qer\""
      ],
      "execution_count": null,
      "outputs": []
    },
    {
      "cell_type": "code",
      "metadata": {
        "id": "x3fp8ADbQXGf"
      },
      "source": [
        ""
      ],
      "execution_count": null,
      "outputs": []
    },
    {
      "cell_type": "code",
      "metadata": {
        "id": "OLz_WOoHgZTi"
      },
      "source": [
        "auth = tweepy.OAuthHandler(consumer_key, consumer_secret)"
      ],
      "execution_count": null,
      "outputs": []
    },
    {
      "cell_type": "code",
      "metadata": {
        "id": "_HZM7R2jgeul"
      },
      "source": [
        "auth.set_access_token(access_token, access_token_secret)\n",
        "api = tweepy.API(auth)"
      ],
      "execution_count": null,
      "outputs": []
    },
    {
      "cell_type": "code",
      "metadata": {
        "id": "mVdyNeLigh0x",
        "colab": {
          "base_uri": "https://localhost:8080/"
        },
        "outputId": "4f13a092-1394-4bc2-d1a3-ed3c86cf2746"
      },
      "source": [
        "api.update_status(status =\"Hello Everyone !\")\n"
      ],
      "execution_count": null,
      "outputs": [
        {
          "output_type": "execute_result",
          "data": {
            "text/plain": [
              "Status(_api=<tweepy.api.API object at 0x7f3e0d7a21d0>, _json={'created_at': 'Sun Jul 04 14:19:16 +0000 2021', 'id': 1411691082686029825, 'id_str': '1411691082686029825', 'text': 'Hello Everyone !', 'truncated': False, 'entities': {'hashtags': [], 'symbols': [], 'user_mentions': [], 'urls': []}, 'source': '<a href=\"https://help.twitter.com/en/using-twitter/how-to-tweet#source-labels\" rel=\"nofollow\">CredaPP1</a>', 'in_reply_to_status_id': None, 'in_reply_to_status_id_str': None, 'in_reply_to_user_id': None, 'in_reply_to_user_id_str': None, 'in_reply_to_screen_name': None, 'user': {'id': 1410950779913990144, 'id_str': '1410950779913990144', 'name': 'Akhila Krishna K', 'screen_name': 'AkhilaKrishnaK6', 'location': '', 'description': 'IIT BOMBAY EE', 'url': None, 'entities': {'description': {'urls': []}}, 'protected': False, 'followers_count': 0, 'friends_count': 5, 'listed_count': 0, 'created_at': 'Fri Jul 02 13:19:52 +0000 2021', 'favourites_count': 0, 'utc_offset': None, 'time_zone': None, 'geo_enabled': False, 'verified': False, 'statuses_count': 1, 'lang': None, 'contributors_enabled': False, 'is_translator': False, 'is_translation_enabled': False, 'profile_background_color': 'F5F8FA', 'profile_background_image_url': None, 'profile_background_image_url_https': None, 'profile_background_tile': False, 'profile_image_url': 'http://abs.twimg.com/sticky/default_profile_images/default_profile_normal.png', 'profile_image_url_https': 'https://abs.twimg.com/sticky/default_profile_images/default_profile_normal.png', 'profile_link_color': '1DA1F2', 'profile_sidebar_border_color': 'C0DEED', 'profile_sidebar_fill_color': 'DDEEF6', 'profile_text_color': '333333', 'profile_use_background_image': True, 'has_extended_profile': True, 'default_profile': True, 'default_profile_image': True, 'following': False, 'follow_request_sent': False, 'notifications': False, 'translator_type': 'none', 'withheld_in_countries': []}, 'geo': None, 'coordinates': None, 'place': None, 'contributors': None, 'is_quote_status': False, 'retweet_count': 0, 'favorite_count': 0, 'favorited': False, 'retweeted': False, 'lang': 'en'}, created_at=datetime.datetime(2021, 7, 4, 14, 19, 16), id=1411691082686029825, id_str='1411691082686029825', text='Hello Everyone !', truncated=False, entities={'hashtags': [], 'symbols': [], 'user_mentions': [], 'urls': []}, source='CredaPP1', source_url='https://help.twitter.com/en/using-twitter/how-to-tweet#source-labels', in_reply_to_status_id=None, in_reply_to_status_id_str=None, in_reply_to_user_id=None, in_reply_to_user_id_str=None, in_reply_to_screen_name=None, author=User(_api=<tweepy.api.API object at 0x7f3e0d7a21d0>, _json={'id': 1410950779913990144, 'id_str': '1410950779913990144', 'name': 'Akhila Krishna K', 'screen_name': 'AkhilaKrishnaK6', 'location': '', 'description': 'IIT BOMBAY EE', 'url': None, 'entities': {'description': {'urls': []}}, 'protected': False, 'followers_count': 0, 'friends_count': 5, 'listed_count': 0, 'created_at': 'Fri Jul 02 13:19:52 +0000 2021', 'favourites_count': 0, 'utc_offset': None, 'time_zone': None, 'geo_enabled': False, 'verified': False, 'statuses_count': 1, 'lang': None, 'contributors_enabled': False, 'is_translator': False, 'is_translation_enabled': False, 'profile_background_color': 'F5F8FA', 'profile_background_image_url': None, 'profile_background_image_url_https': None, 'profile_background_tile': False, 'profile_image_url': 'http://abs.twimg.com/sticky/default_profile_images/default_profile_normal.png', 'profile_image_url_https': 'https://abs.twimg.com/sticky/default_profile_images/default_profile_normal.png', 'profile_link_color': '1DA1F2', 'profile_sidebar_border_color': 'C0DEED', 'profile_sidebar_fill_color': 'DDEEF6', 'profile_text_color': '333333', 'profile_use_background_image': True, 'has_extended_profile': True, 'default_profile': True, 'default_profile_image': True, 'following': False, 'follow_request_sent': False, 'notifications': False, 'translator_type': 'none', 'withheld_in_countries': []}, id=1410950779913990144, id_str='1410950779913990144', name='Akhila Krishna K', screen_name='AkhilaKrishnaK6', location='', description='IIT BOMBAY EE', url=None, entities={'description': {'urls': []}}, protected=False, followers_count=0, friends_count=5, listed_count=0, created_at=datetime.datetime(2021, 7, 2, 13, 19, 52), favourites_count=0, utc_offset=None, time_zone=None, geo_enabled=False, verified=False, statuses_count=1, lang=None, contributors_enabled=False, is_translator=False, is_translation_enabled=False, profile_background_color='F5F8FA', profile_background_image_url=None, profile_background_image_url_https=None, profile_background_tile=False, profile_image_url='http://abs.twimg.com/sticky/default_profile_images/default_profile_normal.png', profile_image_url_https='https://abs.twimg.com/sticky/default_profile_images/default_profile_normal.png', profile_link_color='1DA1F2', profile_sidebar_border_color='C0DEED', profile_sidebar_fill_color='DDEEF6', profile_text_color='333333', profile_use_background_image=True, has_extended_profile=True, default_profile=True, default_profile_image=True, following=False, follow_request_sent=False, notifications=False, translator_type='none', withheld_in_countries=[]), user=User(_api=<tweepy.api.API object at 0x7f3e0d7a21d0>, _json={'id': 1410950779913990144, 'id_str': '1410950779913990144', 'name': 'Akhila Krishna K', 'screen_name': 'AkhilaKrishnaK6', 'location': '', 'description': 'IIT BOMBAY EE', 'url': None, 'entities': {'description': {'urls': []}}, 'protected': False, 'followers_count': 0, 'friends_count': 5, 'listed_count': 0, 'created_at': 'Fri Jul 02 13:19:52 +0000 2021', 'favourites_count': 0, 'utc_offset': None, 'time_zone': None, 'geo_enabled': False, 'verified': False, 'statuses_count': 1, 'lang': None, 'contributors_enabled': False, 'is_translator': False, 'is_translation_enabled': False, 'profile_background_color': 'F5F8FA', 'profile_background_image_url': None, 'profile_background_image_url_https': None, 'profile_background_tile': False, 'profile_image_url': 'http://abs.twimg.com/sticky/default_profile_images/default_profile_normal.png', 'profile_image_url_https': 'https://abs.twimg.com/sticky/default_profile_images/default_profile_normal.png', 'profile_link_color': '1DA1F2', 'profile_sidebar_border_color': 'C0DEED', 'profile_sidebar_fill_color': 'DDEEF6', 'profile_text_color': '333333', 'profile_use_background_image': True, 'has_extended_profile': True, 'default_profile': True, 'default_profile_image': True, 'following': False, 'follow_request_sent': False, 'notifications': False, 'translator_type': 'none', 'withheld_in_countries': []}, id=1410950779913990144, id_str='1410950779913990144', name='Akhila Krishna K', screen_name='AkhilaKrishnaK6', location='', description='IIT BOMBAY EE', url=None, entities={'description': {'urls': []}}, protected=False, followers_count=0, friends_count=5, listed_count=0, created_at=datetime.datetime(2021, 7, 2, 13, 19, 52), favourites_count=0, utc_offset=None, time_zone=None, geo_enabled=False, verified=False, statuses_count=1, lang=None, contributors_enabled=False, is_translator=False, is_translation_enabled=False, profile_background_color='F5F8FA', profile_background_image_url=None, profile_background_image_url_https=None, profile_background_tile=False, profile_image_url='http://abs.twimg.com/sticky/default_profile_images/default_profile_normal.png', profile_image_url_https='https://abs.twimg.com/sticky/default_profile_images/default_profile_normal.png', profile_link_color='1DA1F2', profile_sidebar_border_color='C0DEED', profile_sidebar_fill_color='DDEEF6', profile_text_color='333333', profile_use_background_image=True, has_extended_profile=True, default_profile=True, default_profile_image=True, following=False, follow_request_sent=False, notifications=False, translator_type='none', withheld_in_countries=[]), geo=None, coordinates=None, place=None, contributors=None, is_quote_status=False, retweet_count=0, favorite_count=0, favorited=False, retweeted=False, lang='en')"
            ]
          },
          "metadata": {
            "tags": []
          },
          "execution_count": 5
        }
      ]
    },
    {
      "cell_type": "markdown",
      "metadata": {
        "id": "RxoYTGvLingW"
      },
      "source": [
        "Web Scraping"
      ]
    },
    {
      "cell_type": "markdown",
      "metadata": {
        "id": "MKuga6CIY4Fz"
      },
      "source": [
        "Code for getting the links of excel files containing the data from RBI website"
      ]
    },
    {
      "cell_type": "code",
      "metadata": {
        "id": "mdGIDg99rjBX",
        "colab": {
          "base_uri": "https://localhost:8080/"
        },
        "outputId": "b6d2c32c-e194-4c11-c510-3333260cd78e"
      },
      "source": [
        "import requests\n",
        "from bs4 import BeautifulSoup\n",
        "\n",
        "URL = \"https://rbi.org.in/Scripts/ATMView.aspx/\"\n",
        "page = requests.get(URL)\n",
        "\n",
        "soup = BeautifulSoup(page.content, \"html.parser\")\n",
        "soup"
      ],
      "execution_count": null,
      "outputs": [
        {
          "output_type": "execute_result",
          "data": {
            "text/plain": [
              "\n",
              "<!DOCTYPE html PUBLIC \"-//W3C//DTD XHTML 1.0 Transitional//EN\" \"http://www.w3.org/TR/xhtml1/DTD/xhtml1-transitional.dtd\">\n",
              "\n",
              "<html xmlns=\"http://www.w3.org/1999/xhtml\">\n",
              "<head>\n",
              "<meta charset=\"utf-8\"/>\n",
              "<meta content=\"IE=edge,chrome=1\" http-equiv=\"X-UA-Compatible\"/>\n",
              "<title>Reserve Bank of India - Bankwise ATM/POS/Card Statistics</title>\n",
              "<meta content=\"\" name=\"description\"/>\n",
              "<meta content=\"\" name=\"author\"/>\n",
              "<meta content=\"width=device-width\" name=\"viewport\"/>\n",
              "<script src=\"/js/libs/modernizr-2.5.3.min.js\" type=\"text/javascript\"></script>\n",
              "</head>\n",
              "<body onload=\"SetTreeStyles()\">\n",
              "<form action=\"./\" id=\"form1\" method=\"post\">\n",
              "<input id=\"__VIEWSTATE\" name=\"__VIEWSTATE\" type=\"hidden\" value=\"/wEPDwUJNTk4NTg1MjM1ZGQ/jU5MxO9UxBEvCwwDhuyHVmnwnFv3WW39HrSj2UIhuw==\"/>\n",
              "<input id=\"__VIEWSTATEGENERATOR\" name=\"__VIEWSTATEGENERATOR\" type=\"hidden\" value=\"A2040FBE\"/>\n",
              "<input id=\"__EVENTVALIDATION\" name=\"__EVENTVALIDATION\" type=\"hidden\" value=\"/wEdAAihazVGmxxd/8NuZ0rJZGtelK+XrsQEVyjeDxQ0A4GYXFBwzdjZXczwplb2HKGyLlqLrBfuDtX7nV3nL+5njT0xZDpy7WJnvc3tgXY08CYLJD+rfdwJAuBoVBISURIXWlx9xf1loRXvygROM/A1O+NHJounKCGGAHd04zzVhBPZz7MxF8CF5HSzsY0/K8jda5HbQnEg18eI0DBqnVY7Tdi+\"/>\n",
              "<input id=\"hdnYear\" name=\"hdnYear\" type=\"hidden\"/>\n",
              "<input id=\"hdnMonth\" name=\"hdnMonth\" type=\"hidden\" value=\"0\"/>\n",
              "<link href=\"/JQuery/css/jquery-ui-1.8.18.custom2.css\" rel=\"stylesheet\" type=\"text/css\"/>\n",
              "<link href=\"/includes/print.css\" media=\"print\" rel=\"stylesheet\" type=\"text/css\"/>\n",
              "<link href=\"/Styles/960.css\" rel=\"stylesheet\" type=\"text/css\"/>\n",
              "<link href=\"/Includes1/rbi.css\" rel=\"Stylesheet\" type=\"text/css\"/>\n",
              "<script src=\"/js/libs/jquery-1.7.2.min.js\" type=\"text/javascript\"></script>\n",
              "<script src=\"/JQuery/ui/jquery.ui.revampRBI.js\" type=\"text/javascript\"></script>\n",
              "<script src=\"/js/ImgSaveDisable.js\" type=\"text/javascript\"></script>\n",
              "<!--<script src='//tw.netcore.co.in/smartechclient.js'></script>\n",
              "<script>\n",
              "smartech('create', 'ADGMOT35CHFLVDHBJNIG50K968AU3Q5FOE3L6REE67CQ9HGBQ58G');\n",
              "smartech('register', '4d6884e503ecf55a3339a37e98b711da');\n",
              "smartech('identify', '');\n",
              "smartech('dispatch', 1, { });\n",
              "</script>-->\n",
              "<script type=\"text/javascript\">\n",
              "\n",
              "//Redirect to mobile site start\n",
              "    function detectmob() {\n",
              "        if (screen.width <= 599 || screen.Height <= 975) {\n",
              "            return true;\n",
              "        } else {\n",
              "            return false;\n",
              "        }\n",
              "    }\n",
              "\n",
              "    if (detectmob()) {\n",
              "       window.location.href = \"https://m.rbi.org.in\" + window.location.pathname;\n",
              "\t\t\n",
              "       \n",
              "    }\n",
              "\t//Redirect to mobile site End\n",
              "    $(document).ready(function () {\n",
              "        Search();\n",
              "    });\n",
              "\n",
              "    function Search() {\n",
              "        highlightTextAutocomplete();\n",
              "        $(\".autoSuggest\").autocomplete({\n",
              "\n",
              "\n",
              "            source: function (request, response) {\n",
              "                var param = { keyWord: document.getElementById('txtSearch').value };\n",
              "\n",
              "                $.ajax({\n",
              "                    url: \"../Home.aspx/GetKeywords\",\n",
              "                    data: JSON.stringify(param),\n",
              "                    dataType: \"json\",\n",
              "                    type: \"POST\",\n",
              "                    contentType: \"application/json; charset=utf-8\",\n",
              "                    dataFilter: function (data) { return data; },\n",
              "                    success: function (data) {\n",
              "\n",
              "                        if (data.d.length > 0) {\n",
              "                            response($.map(data.d, function (item) {\n",
              "                                return {\n",
              "                                    value: RemoveSpecialChars(item)\n",
              "\n",
              "                                }\n",
              "                            }))\n",
              "                        }\n",
              "                        else {\n",
              "                            response([{ label: \"No results found\", value: \"\"}]);\n",
              "                        }\n",
              "                    },\n",
              "                    error: function (XMLHttpRequest, textStatus, errorThrown) {\n",
              "                        alert(textStatus);\n",
              "                    }\n",
              "                });\n",
              "            },\n",
              "\n",
              "            //            select: function (event, ui) {\n",
              "            //                if (ui.item.value != \"\") {\n",
              "            //                    window.open(\"/scripts/SearchResults.aspx?search=\" + ui.item.value, '_blank');\n",
              "            //                }\n",
              "            //            },\n",
              "            minLength: 3\n",
              "\n",
              "        });\n",
              "    }\n",
              "\n",
              "    function highlightTextAutocomplete() {\n",
              "\n",
              "        var oldFn = $.ui.autocomplete.prototype._renderItem;\n",
              "\n",
              "        $.ui.autocomplete.prototype._renderItem = function (ul, item) {\n",
              "\n",
              "            var t = String(item.value).replace(\n",
              "                new RegExp(this.term, \"gi\"),\n",
              "                \"<span class='ui-state-highlight'>$&</span>\");\n",
              "            if (item.value != \"\") {\n",
              "                return $(\"<li class='borderAutocomplete'></li>\")\n",
              "                  .data(\"item.autocomplete\", item)\n",
              "                  .append(\"<a>\" + t + \"</a>\")\n",
              "                  .appendTo(ul);\n",
              "            }\n",
              "\n",
              "            else {\n",
              "                return $(\"<li></li>\")\n",
              "                  .data(\"item.autocomplete\", item)\n",
              "                  .append(\"\")\n",
              "                  .appendTo(ul);\n",
              "            }\n",
              "        };\n",
              "    }\n",
              "\n",
              "\n",
              "    function RemoveSpecialChars(inputText) {\n",
              "        var filteredString = inputText.replace(/[\\*\\^\\'\\!\\@\\$\\.\\#\\(\\)\\-\\?\\<\\>\\;\\\"\\&\\+\\{\\}\\:]/g, '');\n",
              "        //alert(filteredString);\n",
              "        return filteredString;\n",
              "    }\n",
              "    //    jQuery(document).ready(function () {\n",
              "    //        var xmlhttp;\n",
              "    //        jQuery(\"#txtSearch\").autocomplete(\n",
              "    //                    {\n",
              "    //                        minLength: 3,\n",
              "    //                        delay: 0,\n",
              "    //                        source: function (request, response) {\n",
              "    //                            if (!xmlhttp) {\n",
              "    //                                if (window.XMLHttpRequest) {// code for IE7+, Firefox, Chrome, Opera, Safari\n",
              "    //                                    xmlhttp = new XMLHttpRequest();\n",
              "    //                                }\n",
              "    //                                else {// code for IE6, IE5\n",
              "    //                                    xmlhttp = new ActiveXObject(\"Microsoft.XMLHTTP\");\n",
              "    //                                }\n",
              "    //                            }\n",
              "    //                            else if (xmlhttp.readyState != 0) {\n",
              "    //                                xmlhttp.abort();\n",
              "    //                            }\n",
              "    //                            xmlhttp.onreadystatechange = function () {\n",
              "    //                                if (xmlhttp.readyState == 4 && xmlhttp.status == 200) {\n",
              "    //                                    fetchedKeywords = xmlhttp.responseText.split(\"'\");\n",
              "    //                                    \n",
              "    //                                    if (fetchedKeywords.length > 10) {\n",
              "    //                                        fetchedKeywords.splice(10, fetchedKeywords.length - 10);\n",
              "    //                                    }\n",
              "    //                                    if (fetchedKeywords != \"\") response(fetchedKeywords);\n",
              "    //                                    else response(null);\n",
              "    //                                }\n",
              "    //                            }\n",
              "    //                            var input = document.getElementById(\"txtSearch\").value;\n",
              "    //                            xmlhttp.open(\"POST\", \"/Webservice/KeywordSearch.ashx?q=\" + input, true);\n",
              "    //                            xmlhttp.send();\n",
              "    //                        }\n",
              "    //                    });\n",
              "    //    });\n",
              "\n",
              "    function LoadSearchData(id, key) {\n",
              "        if (id == \"txtSearch\") {\n",
              "            if (key == 13) {\n",
              "                validateSearchText();\n",
              "                return false;\n",
              "            }\n",
              "        }\n",
              "        else validateSearchText();\n",
              "        return true;\n",
              "    }\n",
              "    function validateSearchText() {\n",
              "        if (validation()) {\n",
              "            var strloc = new String(document.location.href.toString());\n",
              "            if (strloc.indexOf(\"SearchResults.aspx\") == -1) {//             \n",
              "                window.open(\"/scripts/SearchResults.aspx?search=\" + document.getElementById(\"txtSearch\").value);\n",
              "            }\n",
              "            else window.open(\"/scripts/SearchResults.aspx?search=\" + document.getElementById(\"txtSearch\").value, '_parent');\n",
              "        }\n",
              "    }\n",
              "    function validation() {\n",
              "        strSearch = trim(document.getElementById('txtSearch').value);\n",
              "        if (strSearch == \"\") { alert('Please enter the search text'); return false; }\n",
              "        else {\n",
              "            //var strFilterChars = new RegExp(\"[~`!@#$%^&*()_+-={}\\\\[\\\\]:/\\\\\\\\\\\";|'<>,.?]\");\n",
              "            var strFilterChars = new RegExp(\"^[0-9a-zA-Z ]*$\");\n",
              "            if (!strFilterChars.test(strSearch)) { alert(\"Please remove special characters from search text\"); return false; }\n",
              "        }\n",
              "        return true;\n",
              "    }\n",
              "    function trim(value) {\n",
              "        value = value.replace(/^\\s+/, '');\n",
              "        value = value.replace(/\\s+$/, '');\n",
              "        return value;\n",
              "    }\n",
              "</script>\n",
              "<style type=\"text/css\">\n",
              "    .blink_msm1 \n",
              "{\n",
              "    -webkit-animation-name: blinker;\n",
              "    -webkit-animation-duration: 3s;\n",
              "    -webkit-animation-timing-function: linear;\n",
              "    -webkit-animation-iteration-count: infinite;\n",
              "\n",
              "    -moz-animation-name: blinker;\n",
              "    -moz-animation-duration: 3s;\n",
              "    -moz-animation-timing-function: linear;\n",
              "    -moz-animation-iteration-count: infinite;\n",
              "\n",
              "    animation-name: blinker;\n",
              "    animation-duration: 3s;\n",
              "    animation-timing-function: linear;\n",
              "    animation-iteration-count: infinite;\n",
              "}\n",
              "@-moz-keyframes blinker {  \n",
              "    0% { opacity: 1.0; }\n",
              "    50% { opacity: 0.0; }\n",
              "    100% { opacity: 1.0; }\n",
              "}\n",
              "\n",
              "@-webkit-keyframes blinker {  \n",
              "    0% { opacity: 1.0; }\n",
              "    50% { opacity: 0.0; }\n",
              "    100% { opacity: 1.0; }\n",
              "}\n",
              "\n",
              "@keyframes blinker {  \n",
              "    0% { opacity: 1.0; }\n",
              "    50% { opacity: 0.0; }\n",
              "    100% { opacity: 1.0; }\n",
              "}\n",
              "</style>\n",
              "<div class=\"top_setting\">\n",
              "<div class=\"container_12\">\n",
              "<div class=\"grid_5 top_settings\">\n",
              "<a href=\"#mainsection\">Skip to main content </a>\n",
              "</div>\n",
              "<div class=\"grid_4 prefix_3 top_settings\" id=\"UsrFontCntr_tblThemes\" style=\"float: right\">\n",
              "<span class=\"fonts\">\n",
              "<a href=\"javascript:__doPostBack('UsrFontCntr$LinkBtnFontIncrease','')\" id=\"UsrFontCntr_LinkBtnFontIncrease\" title=\"Increase Font Size\"><img alt=\"Increase Font Size\" src=\"/images/font-increase.gif\"/></a></span>\n",
              "<span class=\"fonts\">\n",
              "<a class=\"aspNetDisabled\" id=\"UsrFontCntr_LinkBtnFontRegular\" title=\"Regular Font Size\"><img alt=\"Regular Font Size\" src=\"/images/font-reset.gif\"/></a></span>\n",
              "<span class=\"fonts\">\n",
              "<a href=\"javascript:__doPostBack('UsrFontCntr$LinkBtnFontDecrease','')\" id=\"UsrFontCntr_LinkBtnFontDecrease\" title=\"Decrease Font Size\"><img alt=\"Decrease Font Size\" src=\"/images/font-decrease.gif\"/></a></span>\n",
              "<span class=\"black\">\n",
              "<a href=\"javascript:__doPostBack('UsrFontCntr$LinkBtnAccessibilty','')\" id=\"UsrFontCntr_LinkBtnAccessibilty\" title=\"Apply Dark Theme\"><img alt=\"Apply Dark Theme\" src=\"/images/dark-theme.gif\"/></a></span>\n",
              "<span class=\"white\">\n",
              "<a class=\"aspNetDisabled\" id=\"UsrFontCntr_LinkBtnUndoAccessibilty\" title=\"Apply Normal Theme\"><img alt=\"Apply Normal Theme\" src=\"/images/bright-theme.gif\"/></a></span>\n",
              "<a id=\"A1\" onclick=\"javascript:window.print();\" title=\"Print This Page\">\n",
              "<img alt=\"Print this page\" class=\"print\" src=\"/images/print-icon.png\"/></a>\n",
              "<div style=\"float: right\">\n",
              "<label style=\"margin-right: 6px;color: #000000;\">\n",
              "                    Language</label><a class=\"lnk-language\" href=\"https://www.rbi.org.in/hindi/Home.aspx\" id=\"lnkhindi\" title=\"Hindi site\">हिंदी</a></div>\n",
              "</div>\n",
              "<div class=\"clearfix\">\n",
              "</div>\n",
              "</div>\n",
              "</div>\n",
              "<div class=\"container_12\">\n",
              "<div class=\"grid_5\" role=\"banner\">\n",
              "<h1 class=\"logo\">\n",
              "<a href=\"/home.aspx\">\n",
              "<img alt=\"Reserve Bank of India\" src=\"/images/rbi-company-logo.jpg\"/></a></h1>\n",
              "</div>\n",
              "<div align=\"right\" class=\"grid_5\" role=\"search\" style=\"float: right\">\n",
              "<label class=\"search_label\" for=\"searchbox\">\n",
              "            Search the Website</label>\n",
              "<input class=\"search_box autoSuggest\" id=\"txtSearch\" maxlength=\"103\" name=\"UsrFontCntr$txtSearch\" onkeydown=\"return LoadSearchData('txtSearch',event.keyCode);\" placeholder=\"Search\" type=\"text\"/>\n",
              "<button class=\"search_button\" id=\"btnSearch\" onclick=\"return LoadSearchData('btnSearch',event.keyCode);\" type=\"button\">\n",
              "            Search</button>\n",
              "</div>\n",
              "<div class=\"clearfix\">\n",
              "</div>\n",
              "</div>\n",
              "<!--  NAVIGATION START-->\n",
              "<nav role=\"navigation\">\n",
              "<div class=\"top_menu\">\n",
              "<div class=\"container_12\">\n",
              "<div class=\"grid_12\">\n",
              "<div class=\"droplinebar\" id=\"mydroplinemenu\">\n",
              "<ul>\n",
              "<li><a href=\"/home.aspx\">Home</a></li>\n",
              "<li><a href=\"/Scripts/AboutusDisplay.aspx\">About Us</a></li>\n",
              "<li><a href=\"/Scripts/NotificationUser.aspx\">Notifications</a></li>\n",
              "<li><a href=\"/Scripts/BS_PressReleaseDisplay.aspx\">Press Releases</a></li>\n",
              "<li><a href=\"/Scripts/BS_ViewSpeeches.aspx\">Speeches</a></li>\n",
              "<li><a href=\"#\">Publications</a>\n",
              "<ul>\n",
              "<li><a href=\"/Scripts/Publications.aspx?publication=Annual\">Annual</a></li>\n",
              "<li><a href=\"/Scripts/Publications.aspx?publication=HalfYearly\">Half-Yearly</a></li>\n",
              "<li><a href=\"/Scripts/Publications.aspx?publication=Quarterly\">Quarterly</a></li>\n",
              "<li><a href=\"/Scripts/Publications.aspx?publication=Bimonthly\">Bi-monthly</a></li>\n",
              "<li><a href=\"/Scripts/Publications.aspx?publication=Monthly\">Monthly</a></li>\n",
              "<li><a href=\"/Scripts/Publications.aspx?publication=Weekly\">Weekly</a></li>\n",
              "<li><a href=\"/Scripts/Publications.aspx?publication=Occasional\">Occasional</a></li>\n",
              "<li><a href=\"/Scripts/Publications.aspx?publication=Reports\">Reports</a></li>\n",
              "<li><a href=\"/Scripts/OccasionalPublications.aspx?head=Working Papers\">Working Papers</a></li>\n",
              "<li><a href=\"../Scripts/MSM_MintStreetMemos.aspx\"><span>Mint Street Memos</span></a></li>\n",
              "<!--<li><a href=\"/Scripts/Publications.aspx?publication=Lectures\">Lectures</a></li>-->\n",
              "</ul>\n",
              "</li>\n",
              "<li><a href=\"../Scripts/Lectures.aspx\">Memorial Lectures</a></li>\n",
              "<!--<li><a href=\"../Scripts/MSM_MintStreetMemos.aspx\" ><span >Mint Street Memos</span></a></li>-->\n",
              "<li><a href=\"#\">Research</a>\n",
              "<ul>\n",
              "<li><a href=\"/Scripts/ExternalResearchSchemes.aspx\">External Research Schemes</a></li>\n",
              "<li><a href=\"/Scripts/OccasionalPapers.aspx\">RBI Occasional Papers</a></li>\n",
              "<li><a href=\"/Scripts/OccasionalPublications.aspx?head=Working%20Papers\">Working Papers</a></li>\n",
              "<li><a href=\"/Scripts/BS_ViewBulletin.aspx\">RBI Bulletin</a></li>\n",
              "<li><a href=\"/Scripts/Project1.aspx\">History</a></li>\n",
              "<li><a href=\"/Scripts/Occas_DRG_Studies.aspx\">DRG Studies</a></li>\n",
              "<li><a href=\"/Scripts/KLEMS.aspx\">KLEMS</a></li>\n",
              "<li><a href=\"/Scripts/StateStatisticsFinances.aspx\">State Statistics and Finances</a></li>\n",
              "</ul>\n",
              "</li>\n",
              "<li><a href=\"#\">Statistics</a>\n",
              "<ul>\n",
              "<li><a href=\"/Scripts/Statistics.aspx\">Data Releases</a></li>\n",
              "<li><a href=\"https://dbie.rbi.org.in/DBIE/dbie.rbi?site=home\" target=\"_blank\">Database on Indian Economy</a></li>\n",
              "<li><a href=\"/scripts/FS_PDS.aspx\">Public Debt Statistics</a></li>\n",
              "</ul>\n",
              "</li>\n",
              "<li><a href=\"../Scripts/BS_fintech.aspx\">FinTech</a></li>\n",
              "</ul>\n",
              "</div>\n",
              "</div>\n",
              "</div>\n",
              "</div>\n",
              "</nav>\n",
              "<!--  NAVIGATION END-->\n",
              "<!--HEADER END-->\n",
              "<input id=\"btn\" name=\"UsrFontCntr$btn\" style=\"visibility: hidden; height: 0px; width: 0px;\" type=\"submit\" value=\"\"/>\n",
              "<div>\n",
              "<div class=\"container_12\">\n",
              "<a id=\"mainsection\" name=\"mainsection\"></a>\n",
              "<div class=\"grid_12 breadcrumbs\">\n",
              "<ul>\n",
              "<li><a href=\"../Home.aspx\">Home</a></li>\n",
              "<li><a href=\"Statistics.aspx\">Data Releases</a></li>\n",
              "</ul>\n",
              "</div>\n",
              "<div class=\"clear\">\n",
              "</div>\n",
              "<div class=\"grid_11 omega right_blue_border\">\n",
              "<div class=\"text1\">\n",
              "<h2 class=\"page_title\">\n",
              "                        Bankwise ATM/POS/Card Statistics</h2>\n",
              "<div>\n",
              "<div id=\"doublescroll\">\n",
              "<table align=\"center\" border=\"0\" cellpadding=\"0\" cellspacing=\"0\" width=\"100%\">\n",
              "<table class=\"tablebg\" width=\"100%\"><tr><td class=\"tableheader\" colspan=\"8\"><b>April - 2021<b></b></b></td></tr><tr><td colspan=\"6\" style=\"word-wrap:break-word;width:450;\"><a class=\"link2\" href=\"ATMView.aspx?atmid=122\">Bank-wise ATM/POS/Card Statistics - April 2021</a></td><td nowrap=\"\"><a href=\"https://rbidocs.rbi.org.in/rdocs/ATM/DOCs/ATM042021993978DBFB0444238E54236AF959B61E.XLSX\" target=\"_blank\"><img align=\"absmiddle\" border=\"0\" height=\"16\" src=\"../Images/xls.gif\" width=\"16\"/></a> 26 kb</td><td nowrap=\"\"><a href=\"https://rbidocs.rbi.org.in/rdocs/ATM/PDFs/ATM042021993978DBFB0444238E54236AF959B61E.PDF\" target=\"_blank\"><img align=\"absmiddle\" border=\"0\" height=\"16\" src=\"../Images/pdf.gif\" width=\"16\"/></a> 78 kb</td></tr><tr><td class=\"tableheader\" colspan=\"8\"><b>March - 2021<b></b></b></td></tr><tr><td colspan=\"6\" style=\"word-wrap:break-word;width:450;\"><a class=\"link2\" href=\"ATMView.aspx?atmid=121\">Bank-wise ATM/POS/Card Statistics - March 2021</a></td><td nowrap=\"\"><a href=\"https://rbidocs.rbi.org.in/rdocs/ATM/DOCs/ATM18052021_F4DEA491557B44E2385D6FD2F5CADDF6F.XLSX\" target=\"_blank\"><img align=\"absmiddle\" border=\"0\" height=\"16\" src=\"../Images/xls.gif\" width=\"16\"/></a> 21 kb</td><td nowrap=\"\"><a href=\"https://rbidocs.rbi.org.in/rdocs/ATM/PDFs/ATM18052021_F4DEA491557B44E2385D6FD2F5CADDF6F.PDF\" target=\"_blank\"><img align=\"absmiddle\" border=\"0\" height=\"16\" src=\"../Images/pdf.gif\" width=\"16\"/></a> 78 kb</td></tr><tr><td class=\"tableheader\" colspan=\"8\"><b>February - 2021<b></b></b></td></tr><tr><td colspan=\"6\" style=\"word-wrap:break-word;width:450;\"><a class=\"link2\" href=\"ATMView.aspx?atmid=120\">Bank-wise ATM/POS/Card Statistics - February 2021 (<span style=\"color: red\">Revised</span>)</a></td><td nowrap=\"\"><a href=\"https://rbidocs.rbi.org.in/rdocs/ATM/DOCs/ATM150420211082B589FD794427A7DC323DA2EEEC25.XLSX\" target=\"_blank\"><img align=\"absmiddle\" border=\"0\" height=\"16\" src=\"../Images/xls.gif\" width=\"16\"/></a> 21 kb</td><td nowrap=\"\"><a href=\"https://rbidocs.rbi.org.in/rdocs/ATM/PDFs/ATM150420211082B589FD794427A7DC323DA2EEEC25.PDF\" target=\"_blank\"><img align=\"absmiddle\" border=\"0\" height=\"16\" src=\"../Images/pdf.gif\" width=\"16\"/></a> 171 kb</td></tr><tr><td class=\"tableheader\" colspan=\"8\"><b>January - 2021<b></b></b></td></tr><tr><td colspan=\"6\" style=\"word-wrap:break-word;width:450;\"><a class=\"link2\" href=\"ATMView.aspx?atmid=119\">Bank-wise ATM/POS/Card Statistics - January 2021 (<span style=\"color: red\">Revised</span>)</a></td><td nowrap=\"\"><a href=\"https://rbidocs.rbi.org.in/rdocs/ATM/DOCs/ATM2503202143D12E1C57FF44EB8E6C81785E14C1CE.XLSX\" target=\"_blank\"><img align=\"absmiddle\" border=\"0\" height=\"16\" src=\"../Images/xls.gif\" width=\"16\"/></a> 21 kb</td><td nowrap=\"\"><a href=\"https://rbidocs.rbi.org.in/rdocs/ATM/PDFs/ATM2503202143D12E1C57FF44EB8E6C81785E14C1CE.PDF\" target=\"_blank\"><img align=\"absmiddle\" border=\"0\" height=\"16\" src=\"../Images/pdf.gif\" width=\"16\"/></a> 180 kb</td></tr><tr><td class=\"tableheader\" colspan=\"8\"><b>December - 2020<b></b></b></td></tr><tr><td colspan=\"6\" style=\"word-wrap:break-word;width:450;\"><a class=\"link2\" href=\"ATMView.aspx?atmid=118\">Bank-wise ATM/POS/Card Statistics - December 2020 (<span style=\"color: red\">Revised</span>)</a></td><td nowrap=\"\"><a href=\"https://rbidocs.rbi.org.in/rdocs/ATM/DOCs/ATM1220208E8C93801C6D4F2399EF31C19A0805A9.XLSX\" target=\"_blank\"><img align=\"absmiddle\" border=\"0\" height=\"16\" src=\"../Images/xls.gif\" width=\"16\"/></a> 21 kb</td><td nowrap=\"\"><a href=\"https://rbidocs.rbi.org.in/rdocs/ATM/PDFs/ATM1220208E8C93801C6D4F2399EF31C19A0805A9.PDF\" target=\"_blank\"><img align=\"absmiddle\" border=\"0\" height=\"16\" src=\"../Images/pdf.gif\" width=\"16\"/></a> 161 kb</td></tr><tr><td class=\"tableheader\" colspan=\"8\"><b>November - 2020<b></b></b></td></tr><tr><td colspan=\"6\" style=\"word-wrap:break-word;width:450;\"><a class=\"link2\" href=\"ATMView.aspx?atmid=117\">Bank-wise ATM/POS/Card Statistics - November 2020 (<span style=\"color: red\">Revised</span>)</a></td><td nowrap=\"\"><a href=\"https://rbidocs.rbi.org.in/rdocs/ATM/DOCs/ATMD21E2C4053604DE4A438D39AA66A3DDA.XLSX\" target=\"_blank\"><img align=\"absmiddle\" border=\"0\" height=\"16\" src=\"../Images/xls.gif\" width=\"16\"/></a> 21 kb</td><td nowrap=\"\"><a href=\"https://rbidocs.rbi.org.in/rdocs/ATM/PDFs/ATMD21E2C4053604DE4A438D39AA66A3DDA.PDF\" target=\"_blank\"><img align=\"absmiddle\" border=\"0\" height=\"16\" src=\"../Images/pdf.gif\" width=\"16\"/></a> 184 kb</td></tr><tr><td class=\"tableheader\" colspan=\"8\"><b>October - 2020<b></b></b></td></tr><tr><td colspan=\"6\" style=\"word-wrap:break-word;width:450;\"><a class=\"link2\" href=\"ATMView.aspx?atmid=116\">Bank-wise ATM/POS/Card Statistics - October 2020 (<span style=\"color: red\">Revised</span>)</a></td><td nowrap=\"\"><a href=\"https://rbidocs.rbi.org.in/rdocs/ATM/DOCs/ATM10202006976A70426B498D9D8373A066CBC269.XLSX\" target=\"_blank\"><img align=\"absmiddle\" border=\"0\" height=\"16\" src=\"../Images/xls.gif\" width=\"16\"/></a> 21 kb</td><td nowrap=\"\"><a href=\"https://rbidocs.rbi.org.in/rdocs/ATM/PDFs/ATM10202006976A70426B498D9D8373A066CBC269.PDF\" target=\"_blank\"><img align=\"absmiddle\" border=\"0\" height=\"16\" src=\"../Images/pdf.gif\" width=\"16\"/></a> 210 kb</td></tr><tr><td class=\"tableheader\" colspan=\"8\"><b>September - 2020<b></b></b></td></tr><tr><td colspan=\"6\" style=\"word-wrap:break-word;width:450;\"><a class=\"link2\" href=\"ATMView.aspx?atmid=115\">Bank-wise ATM/POS/Card Statistics - September 2020 (<span style=\"color: red\">Revised</span>)</a></td><td nowrap=\"\"><a href=\"https://rbidocs.rbi.org.in/rdocs/ATM/DOCs/ATM092020D43BD86E62B5409BBCACFC27EC52E0CD.XLSX\" target=\"_blank\"><img align=\"absmiddle\" border=\"0\" height=\"16\" src=\"../Images/xls.gif\" width=\"16\"/></a> 21 kb</td><td nowrap=\"\"><a href=\"https://rbidocs.rbi.org.in/rdocs/ATM/PDFs/ATM092020D43BD86E62B5409BBCACFC27EC52E0CD.PDF\" target=\"_blank\"><img align=\"absmiddle\" border=\"0\" height=\"16\" src=\"../Images/pdf.gif\" width=\"16\"/></a> 209 kb</td></tr><tr><td class=\"tableheader\" colspan=\"8\"><b>August - 2020<b></b></b></td></tr><tr><td colspan=\"6\" style=\"word-wrap:break-word;width:450;\"><a class=\"link2\" href=\"ATMView.aspx?atmid=114\">Bank-wise ATM/POS/Card Statistics - August 2020 (<span style=\"color: red\">Revised</span>)</a></td><td nowrap=\"\"><a href=\"https://rbidocs.rbi.org.in/rdocs/ATM/DOCs/ATM082020D14FDA475ED44E70BB22F7C9EA15C9B0.XLSX\" target=\"_blank\"><img align=\"absmiddle\" border=\"0\" height=\"16\" src=\"../Images/xls.gif\" width=\"16\"/></a> 20 kb</td><td nowrap=\"\"><a href=\"https://rbidocs.rbi.org.in/rdocs/ATM/PDFs/ATM082020D14FDA475ED44E70BB22F7C9EA15C9B0.PDF\" target=\"_blank\"><img align=\"absmiddle\" border=\"0\" height=\"16\" src=\"../Images/pdf.gif\" width=\"16\"/></a> 212 kb</td></tr><tr><td class=\"tableheader\" colspan=\"8\"><b>July - 2020<b></b></b></td></tr><tr><td colspan=\"6\" style=\"word-wrap:break-word;width:450;\"><a class=\"link2\" href=\"ATMView.aspx?atmid=113\">Bank-wise ATM/POS/Card Statistics - July 2020 (<span style=\"color: red\">Revised</span>)</a></td><td nowrap=\"\"><a href=\"https://rbidocs.rbi.org.in/rdocs/ATM/DOCs/ATM21092020F0D9A41928544F359BFD55F7E938C4D2.XLSX\" target=\"_blank\"><img align=\"absmiddle\" border=\"0\" height=\"16\" src=\"../Images/xls.gif\" width=\"16\"/></a> 20 kb</td><td nowrap=\"\"><a href=\"https://rbidocs.rbi.org.in/rdocs/ATM/PDFs/ATM21092020F0D9A41928544F359BFD55F7E938C4D2.PDF\" target=\"_blank\"><img align=\"absmiddle\" border=\"0\" height=\"16\" src=\"../Images/pdf.gif\" width=\"16\"/></a> 184 kb</td></tr></table>\n",
              "</table>\n",
              "</div>\n",
              "<br/>\n",
              "<div align=\"right\">\n",
              "</div>\n",
              "</div>\n",
              "</div>\n",
              "</div>\n",
              "<div class=\"grid_1 archives alpha\">\n",
              "<span id=\"DateSettree_lbltree\"><div class=\"grid_subtree archives alpha\" id=\"treeYearMonth_PR\"><div class=\"accordionButton year\" id=\"btn2021\">2021</div><div class=\"accordionContent month\" id=\"2021\"><ul class=\"accordionlist\"><li><a href=\"#\" id=\"20210\" onclick='GetYearMonth(\"2021\",\"0\")'>All Months</a></li><li><a href=\"#\" id=\"20211\" onclick='GetYearMonth(\"2021\",\"1\")'>January</a></li><li><a href=\"#\" id=\"20212\" onclick='GetYearMonth(\"2021\",\"2\")'>February</a></li><li><a href=\"#\" id=\"20213\" onclick='GetYearMonth(\"2021\",\"3\")'>March</a></li><li><a href=\"#\" id=\"20214\" onclick='GetYearMonth(\"2021\",\"4\")'>April</a></li><li><a href=\"#\" id=\"20215\" onclick='GetYearMonth(\"2021\",\"5\")'>May</a></li><li><a href=\"#\" id=\"20216\" onclick='GetYearMonth(\"2021\",\"6\")'>June</a></li><li><a href=\"#\" id=\"20217\" onclick='GetYearMonth(\"2021\",\"7\")'>July</a></li><li><a href=\"#\" id=\"20218\" onclick='GetYearMonth(\"2021\",\"8\")'>August</a></li><li><a href=\"#\" id=\"20219\" onclick='GetYearMonth(\"2021\",\"9\")'>September</a></li><li><a href=\"#\" id=\"202110\" onclick='GetYearMonth(\"2021\",\"10\")'>October</a></li><li><a href=\"#\" id=\"202111\" onclick='GetYearMonth(\"2021\",\"11\")'>November</a></li><li><a href=\"#\" id=\"202112\" onclick='GetYearMonth(\"2021\",\"12\")'>December</a></li></ul></div><div class=\"accordionButton year\" id=\"btn2020\">2020</div><div class=\"accordionContent month\" id=\"2020\"><ul class=\"accordionlist\"><li><a href=\"#\" id=\"20200\" onclick='GetYearMonth(\"2020\",\"0\")'>All Months</a></li><li><a href=\"#\" id=\"20201\" onclick='GetYearMonth(\"2020\",\"1\")'>January</a></li><li><a href=\"#\" id=\"20202\" onclick='GetYearMonth(\"2020\",\"2\")'>February</a></li><li><a href=\"#\" id=\"20203\" onclick='GetYearMonth(\"2020\",\"3\")'>March</a></li><li><a href=\"#\" id=\"20204\" onclick='GetYearMonth(\"2020\",\"4\")'>April</a></li><li><a href=\"#\" id=\"20205\" onclick='GetYearMonth(\"2020\",\"5\")'>May</a></li><li><a href=\"#\" id=\"20206\" onclick='GetYearMonth(\"2020\",\"6\")'>June</a></li><li><a href=\"#\" id=\"20207\" onclick='GetYearMonth(\"2020\",\"7\")'>July</a></li><li><a href=\"#\" id=\"20208\" onclick='GetYearMonth(\"2020\",\"8\")'>August</a></li><li><a href=\"#\" id=\"20209\" onclick='GetYearMonth(\"2020\",\"9\")'>September</a></li><li><a href=\"#\" id=\"202010\" onclick='GetYearMonth(\"2020\",\"10\")'>October</a></li><li><a href=\"#\" id=\"202011\" onclick='GetYearMonth(\"2020\",\"11\")'>November</a></li><li><a href=\"#\" id=\"202012\" onclick='GetYearMonth(\"2020\",\"12\")'>December</a></li></ul></div><div class=\"accordionButton year\" id=\"btn2019\">2019</div><div class=\"accordionContent month\" id=\"2019\"><ul class=\"accordionlist\"><li><a href=\"#\" id=\"20190\" onclick='GetYearMonth(\"2019\",\"0\")'>All Months</a></li><li><a href=\"#\" id=\"20191\" onclick='GetYearMonth(\"2019\",\"1\")'>January</a></li><li><a href=\"#\" id=\"20192\" onclick='GetYearMonth(\"2019\",\"2\")'>February</a></li><li><a href=\"#\" id=\"20193\" onclick='GetYearMonth(\"2019\",\"3\")'>March</a></li><li><a href=\"#\" id=\"20194\" onclick='GetYearMonth(\"2019\",\"4\")'>April</a></li><li><a href=\"#\" id=\"20195\" onclick='GetYearMonth(\"2019\",\"5\")'>May</a></li><li><a href=\"#\" id=\"20196\" onclick='GetYearMonth(\"2019\",\"6\")'>June</a></li><li><a href=\"#\" id=\"20197\" onclick='GetYearMonth(\"2019\",\"7\")'>July</a></li><li><a href=\"#\" id=\"20198\" onclick='GetYearMonth(\"2019\",\"8\")'>August</a></li><li><a href=\"#\" id=\"20199\" onclick='GetYearMonth(\"2019\",\"9\")'>September</a></li><li><a href=\"#\" id=\"201910\" onclick='GetYearMonth(\"2019\",\"10\")'>October</a></li><li><a href=\"#\" id=\"201911\" onclick='GetYearMonth(\"2019\",\"11\")'>November</a></li><li><a href=\"#\" id=\"201912\" onclick='GetYearMonth(\"2019\",\"12\")'>December</a></li></ul></div><div class=\"accordionButton year\" id=\"btn2018\">2018</div><div class=\"accordionContent month\" id=\"2018\"><ul class=\"accordionlist\"><li><a href=\"#\" id=\"20180\" onclick='GetYearMonth(\"2018\",\"0\")'>All Months</a></li><li><a href=\"#\" id=\"20181\" onclick='GetYearMonth(\"2018\",\"1\")'>January</a></li><li><a href=\"#\" id=\"20182\" onclick='GetYearMonth(\"2018\",\"2\")'>February</a></li><li><a href=\"#\" id=\"20183\" onclick='GetYearMonth(\"2018\",\"3\")'>March</a></li><li><a href=\"#\" id=\"20184\" onclick='GetYearMonth(\"2018\",\"4\")'>April</a></li><li><a href=\"#\" id=\"20185\" onclick='GetYearMonth(\"2018\",\"5\")'>May</a></li><li><a href=\"#\" id=\"20186\" onclick='GetYearMonth(\"2018\",\"6\")'>June</a></li><li><a href=\"#\" id=\"20187\" onclick='GetYearMonth(\"2018\",\"7\")'>July</a></li><li><a href=\"#\" id=\"20188\" onclick='GetYearMonth(\"2018\",\"8\")'>August</a></li><li><a href=\"#\" id=\"20189\" onclick='GetYearMonth(\"2018\",\"9\")'>September</a></li><li><a href=\"#\" id=\"201810\" onclick='GetYearMonth(\"2018\",\"10\")'>October</a></li><li><a href=\"#\" id=\"201811\" onclick='GetYearMonth(\"2018\",\"11\")'>November</a></li><li><a href=\"#\" id=\"201812\" onclick='GetYearMonth(\"2018\",\"12\")'>December</a></li></ul></div><div class=\"accordionButton year\" id=\"btn2017\">2017</div><div class=\"accordionContent month\" id=\"2017\"><ul class=\"accordionlist\"><li><a href=\"#\" id=\"20170\" onclick='GetYearMonth(\"2017\",\"0\")'>All Months</a></li><li><a href=\"#\" id=\"20171\" onclick='GetYearMonth(\"2017\",\"1\")'>January</a></li><li><a href=\"#\" id=\"20172\" onclick='GetYearMonth(\"2017\",\"2\")'>February</a></li><li><a href=\"#\" id=\"20173\" onclick='GetYearMonth(\"2017\",\"3\")'>March</a></li><li><a href=\"#\" id=\"20174\" onclick='GetYearMonth(\"2017\",\"4\")'>April</a></li><li><a href=\"#\" id=\"20175\" onclick='GetYearMonth(\"2017\",\"5\")'>May</a></li><li><a href=\"#\" id=\"20176\" onclick='GetYearMonth(\"2017\",\"6\")'>June</a></li><li><a href=\"#\" id=\"20177\" onclick='GetYearMonth(\"2017\",\"7\")'>July</a></li><li><a href=\"#\" id=\"20178\" onclick='GetYearMonth(\"2017\",\"8\")'>August</a></li><li><a href=\"#\" id=\"20179\" onclick='GetYearMonth(\"2017\",\"9\")'>September</a></li><li><a href=\"#\" id=\"201710\" onclick='GetYearMonth(\"2017\",\"10\")'>October</a></li><li><a href=\"#\" id=\"201711\" onclick='GetYearMonth(\"2017\",\"11\")'>November</a></li><li><a href=\"#\" id=\"201712\" onclick='GetYearMonth(\"2017\",\"12\")'>December</a></li></ul></div><div class=\"accordionButton year\" id=\"btn2016\">2016</div><div class=\"accordionContent month\" id=\"2016\"><ul class=\"accordionlist\"><li><a href=\"#\" id=\"20160\" onclick='GetYearMonth(\"2016\",\"0\")'>All Months</a></li><li><a href=\"#\" id=\"20161\" onclick='GetYearMonth(\"2016\",\"1\")'>January</a></li><li><a href=\"#\" id=\"20162\" onclick='GetYearMonth(\"2016\",\"2\")'>February</a></li><li><a href=\"#\" id=\"20163\" onclick='GetYearMonth(\"2016\",\"3\")'>March</a></li><li><a href=\"#\" id=\"20164\" onclick='GetYearMonth(\"2016\",\"4\")'>April</a></li><li><a href=\"#\" id=\"20165\" onclick='GetYearMonth(\"2016\",\"5\")'>May</a></li><li><a href=\"#\" id=\"20166\" onclick='GetYearMonth(\"2016\",\"6\")'>June</a></li><li><a href=\"#\" id=\"20167\" onclick='GetYearMonth(\"2016\",\"7\")'>July</a></li><li><a href=\"#\" id=\"20168\" onclick='GetYearMonth(\"2016\",\"8\")'>August</a></li><li><a href=\"#\" id=\"20169\" onclick='GetYearMonth(\"2016\",\"9\")'>September</a></li><li><a href=\"#\" id=\"201610\" onclick='GetYearMonth(\"2016\",\"10\")'>October</a></li><li><a href=\"#\" id=\"201611\" onclick='GetYearMonth(\"2016\",\"11\")'>November</a></li><li><a href=\"#\" id=\"201612\" onclick='GetYearMonth(\"2016\",\"12\")'>December</a></li></ul></div><div class=\"accordionButton year\" id=\"btn2015\">2015</div><div class=\"accordionContent month\" id=\"2015\"><ul class=\"accordionlist\"><li><a href=\"#\" id=\"20150\" onclick='GetYearMonth(\"2015\",\"0\")'>All Months</a></li><li><a href=\"#\" id=\"20151\" onclick='GetYearMonth(\"2015\",\"1\")'>January</a></li><li><a href=\"#\" id=\"20152\" onclick='GetYearMonth(\"2015\",\"2\")'>February</a></li><li><a href=\"#\" id=\"20153\" onclick='GetYearMonth(\"2015\",\"3\")'>March</a></li><li><a href=\"#\" id=\"20154\" onclick='GetYearMonth(\"2015\",\"4\")'>April</a></li><li><a href=\"#\" id=\"20155\" onclick='GetYearMonth(\"2015\",\"5\")'>May</a></li><li><a href=\"#\" id=\"20156\" onclick='GetYearMonth(\"2015\",\"6\")'>June</a></li><li><a href=\"#\" id=\"20157\" onclick='GetYearMonth(\"2015\",\"7\")'>July</a></li><li><a href=\"#\" id=\"20158\" onclick='GetYearMonth(\"2015\",\"8\")'>August</a></li><li><a href=\"#\" id=\"20159\" onclick='GetYearMonth(\"2015\",\"9\")'>September</a></li><li><a href=\"#\" id=\"201510\" onclick='GetYearMonth(\"2015\",\"10\")'>October</a></li><li><a href=\"#\" id=\"201511\" onclick='GetYearMonth(\"2015\",\"11\")'>November</a></li><li><a href=\"#\" id=\"201512\" onclick='GetYearMonth(\"2015\",\"12\")'>December</a></li></ul></div><div class=\"accordionButton year\" id=\"btn2014\">2014</div><div class=\"accordionContent month\" id=\"2014\"><ul class=\"accordionlist\"><li><a href=\"#\" id=\"20140\" onclick='GetYearMonth(\"2014\",\"0\")'>All Months</a></li><li><a href=\"#\" id=\"20141\" onclick='GetYearMonth(\"2014\",\"1\")'>January</a></li><li><a href=\"#\" id=\"20142\" onclick='GetYearMonth(\"2014\",\"2\")'>February</a></li><li><a href=\"#\" id=\"20143\" onclick='GetYearMonth(\"2014\",\"3\")'>March</a></li><li><a href=\"#\" id=\"20144\" onclick='GetYearMonth(\"2014\",\"4\")'>April</a></li><li><a href=\"#\" id=\"20145\" onclick='GetYearMonth(\"2014\",\"5\")'>May</a></li><li><a href=\"#\" id=\"20146\" onclick='GetYearMonth(\"2014\",\"6\")'>June</a></li><li><a href=\"#\" id=\"20147\" onclick='GetYearMonth(\"2014\",\"7\")'>July</a></li><li><a href=\"#\" id=\"20148\" onclick='GetYearMonth(\"2014\",\"8\")'>August</a></li><li><a href=\"#\" id=\"20149\" onclick='GetYearMonth(\"2014\",\"9\")'>September</a></li><li><a href=\"#\" id=\"201410\" onclick='GetYearMonth(\"2014\",\"10\")'>October</a></li><li><a href=\"#\" id=\"201411\" onclick='GetYearMonth(\"2014\",\"11\")'>November</a></li><li><a href=\"#\" id=\"201412\" onclick='GetYearMonth(\"2014\",\"12\")'>December</a></li></ul></div><div class=\"accordionButton year\" id=\"btn2013\">2013</div><div class=\"accordionContent month\" id=\"2013\"><ul class=\"accordionlist\"><li><a href=\"#\" id=\"20130\" onclick='GetYearMonth(\"2013\",\"0\")'>All Months</a></li><li><a href=\"#\" id=\"20131\" onclick='GetYearMonth(\"2013\",\"1\")'>January</a></li><li><a href=\"#\" id=\"20132\" onclick='GetYearMonth(\"2013\",\"2\")'>February</a></li><li><a href=\"#\" id=\"20133\" onclick='GetYearMonth(\"2013\",\"3\")'>March</a></li><li><a href=\"#\" id=\"20134\" onclick='GetYearMonth(\"2013\",\"4\")'>April</a></li><li><a href=\"#\" id=\"20135\" onclick='GetYearMonth(\"2013\",\"5\")'>May</a></li><li><a href=\"#\" id=\"20136\" onclick='GetYearMonth(\"2013\",\"6\")'>June</a></li><li><a href=\"#\" id=\"20137\" onclick='GetYearMonth(\"2013\",\"7\")'>July</a></li><li><a href=\"#\" id=\"20138\" onclick='GetYearMonth(\"2013\",\"8\")'>August</a></li><li><a href=\"#\" id=\"20139\" onclick='GetYearMonth(\"2013\",\"9\")'>September</a></li><li><a href=\"#\" id=\"201310\" onclick='GetYearMonth(\"2013\",\"10\")'>October</a></li><li><a href=\"#\" id=\"201311\" onclick='GetYearMonth(\"2013\",\"11\")'>November</a></li><li><a href=\"#\" id=\"201312\" onclick='GetYearMonth(\"2013\",\"12\")'>December</a></li></ul></div><div class=\"accordionButton year\" id=\"btn2012\">2012</div><div class=\"accordionContent month\" id=\"2012\"><ul class=\"accordionlist\"><li><a href=\"#\" id=\"20120\" onclick='GetYearMonth(\"2012\",\"0\")'>All Months</a></li><li><a href=\"#\" id=\"20121\" onclick='GetYearMonth(\"2012\",\"1\")'>January</a></li><li><a href=\"#\" id=\"20122\" onclick='GetYearMonth(\"2012\",\"2\")'>February</a></li><li><a href=\"#\" id=\"20123\" onclick='GetYearMonth(\"2012\",\"3\")'>March</a></li><li><a href=\"#\" id=\"20124\" onclick='GetYearMonth(\"2012\",\"4\")'>April</a></li><li><a href=\"#\" id=\"20125\" onclick='GetYearMonth(\"2012\",\"5\")'>May</a></li><li><a href=\"#\" id=\"20126\" onclick='GetYearMonth(\"2012\",\"6\")'>June</a></li><li><a href=\"#\" id=\"20127\" onclick='GetYearMonth(\"2012\",\"7\")'>July</a></li><li><a href=\"#\" id=\"20128\" onclick='GetYearMonth(\"2012\",\"8\")'>August</a></li><li><a href=\"#\" id=\"20129\" onclick='GetYearMonth(\"2012\",\"9\")'>September</a></li><li><a href=\"#\" id=\"201210\" onclick='GetYearMonth(\"2012\",\"10\")'>October</a></li><li><a href=\"#\" id=\"201211\" onclick='GetYearMonth(\"2012\",\"11\")'>November</a></li><li><a href=\"#\" id=\"201212\" onclick='GetYearMonth(\"2012\",\"12\")'>December</a></li></ul></div><div class=\"year\" id=\"divArchiveMain\" onclick=\"hideshow('divArchiveSub');\" style=\"cursor: pointer;\">Archives</div><div id=\"divArchiveSub\" style=\"display: none;\"><div class=\"grid_subtree archives alpha\" id=\"treeYearMonth_PR\"><div class=\"accordionButton year\" id=\"btn2011\">2011</div><div class=\"accordionContent month\" id=\"2011\"><ul class=\"accordionlist\"><li><a href=\"#\" id=\"20110\" onclick='GetYearMonth(\"2011\",\"0\")'>All Months</a></li><li><a href=\"#\" id=\"20111\" onclick='GetYearMonth(\"2011\",\"1\")'>January</a></li><li><a href=\"#\" id=\"20112\" onclick='GetYearMonth(\"2011\",\"2\")'>February</a></li><li><a href=\"#\" id=\"20113\" onclick='GetYearMonth(\"2011\",\"3\")'>March</a></li><li><a href=\"#\" id=\"20114\" onclick='GetYearMonth(\"2011\",\"4\")'>April</a></li><li><a href=\"#\" id=\"20115\" onclick='GetYearMonth(\"2011\",\"5\")'>May</a></li><li><a href=\"#\" id=\"20116\" onclick='GetYearMonth(\"2011\",\"6\")'>June</a></li><li><a href=\"#\" id=\"20117\" onclick='GetYearMonth(\"2011\",\"7\")'>July</a></li><li><a href=\"#\" id=\"20118\" onclick='GetYearMonth(\"2011\",\"8\")'>August</a></li><li><a href=\"#\" id=\"20119\" onclick='GetYearMonth(\"2011\",\"9\")'>September</a></li><li><a href=\"#\" id=\"201110\" onclick='GetYearMonth(\"2011\",\"10\")'>October</a></li><li><a href=\"#\" id=\"201111\" onclick='GetYearMonth(\"2011\",\"11\")'>November</a></li><li><a href=\"#\" id=\"201112\" onclick='GetYearMonth(\"2011\",\"12\")'>December</a></li></ul></div><div class=\"accordionButton year\" id=\"btn2010\">2010</div><div class=\"accordionContent month\" id=\"2010\"><ul class=\"accordionlist\"><li><a href=\"#\" id=\"20100\" onclick='GetYearMonth(\"2010\",\"0\")'>All Months</a></li><li><a href=\"#\" id=\"20101\" onclick='GetYearMonth(\"2010\",\"1\")'>January</a></li><li><a href=\"#\" id=\"20102\" onclick='GetYearMonth(\"2010\",\"2\")'>February</a></li><li><a href=\"#\" id=\"20103\" onclick='GetYearMonth(\"2010\",\"3\")'>March</a></li><li><a href=\"#\" id=\"20104\" onclick='GetYearMonth(\"2010\",\"4\")'>April</a></li><li><a href=\"#\" id=\"20105\" onclick='GetYearMonth(\"2010\",\"5\")'>May</a></li><li><a href=\"#\" id=\"20106\" onclick='GetYearMonth(\"2010\",\"6\")'>June</a></li><li><a href=\"#\" id=\"20107\" onclick='GetYearMonth(\"2010\",\"7\")'>July</a></li><li><a href=\"#\" id=\"20108\" onclick='GetYearMonth(\"2010\",\"8\")'>August</a></li><li><a href=\"#\" id=\"20109\" onclick='GetYearMonth(\"2010\",\"9\")'>September</a></li><li><a href=\"#\" id=\"201010\" onclick='GetYearMonth(\"2010\",\"10\")'>October</a></li><li><a href=\"#\" id=\"201011\" onclick='GetYearMonth(\"2010\",\"11\")'>November</a></li><li><a href=\"#\" id=\"201012\" onclick='GetYearMonth(\"2010\",\"12\")'>December</a></li></ul></div><div class=\"accordionButton year\" id=\"btn2009\">2009</div><div class=\"accordionContent month\" id=\"2009\"><ul class=\"accordionlist\"><li><a href=\"#\" id=\"20090\" onclick='GetYearMonth(\"2009\",\"0\")'>All Months</a></li><li><a href=\"#\" id=\"20091\" onclick='GetYearMonth(\"2009\",\"1\")'>January</a></li><li><a href=\"#\" id=\"20092\" onclick='GetYearMonth(\"2009\",\"2\")'>February</a></li><li><a href=\"#\" id=\"20093\" onclick='GetYearMonth(\"2009\",\"3\")'>March</a></li><li><a href=\"#\" id=\"20094\" onclick='GetYearMonth(\"2009\",\"4\")'>April</a></li><li><a href=\"#\" id=\"20095\" onclick='GetYearMonth(\"2009\",\"5\")'>May</a></li><li><a href=\"#\" id=\"20096\" onclick='GetYearMonth(\"2009\",\"6\")'>June</a></li><li><a href=\"#\" id=\"20097\" onclick='GetYearMonth(\"2009\",\"7\")'>July</a></li><li><a href=\"#\" id=\"20098\" onclick='GetYearMonth(\"2009\",\"8\")'>August</a></li><li><a href=\"#\" id=\"20099\" onclick='GetYearMonth(\"2009\",\"9\")'>September</a></li><li><a href=\"#\" id=\"200910\" onclick='GetYearMonth(\"2009\",\"10\")'>October</a></li><li><a href=\"#\" id=\"200911\" onclick='GetYearMonth(\"2009\",\"11\")'>November</a></li><li><a href=\"#\" id=\"200912\" onclick='GetYearMonth(\"2009\",\"12\")'>December</a></li></ul></div><div class=\"accordionButton year\" id=\"btn2008\">2008</div><div class=\"accordionContent month\" id=\"2008\"><ul class=\"accordionlist\"><li><a href=\"#\" id=\"20080\" onclick='GetYearMonth(\"2008\",\"0\")'>All Months</a></li><li><a href=\"#\" id=\"20081\" onclick='GetYearMonth(\"2008\",\"1\")'>January</a></li><li><a href=\"#\" id=\"20082\" onclick='GetYearMonth(\"2008\",\"2\")'>February</a></li><li><a href=\"#\" id=\"20083\" onclick='GetYearMonth(\"2008\",\"3\")'>March</a></li><li><a href=\"#\" id=\"20084\" onclick='GetYearMonth(\"2008\",\"4\")'>April</a></li><li><a href=\"#\" id=\"20085\" onclick='GetYearMonth(\"2008\",\"5\")'>May</a></li><li><a href=\"#\" id=\"20086\" onclick='GetYearMonth(\"2008\",\"6\")'>June</a></li><li><a href=\"#\" id=\"20087\" onclick='GetYearMonth(\"2008\",\"7\")'>July</a></li><li><a href=\"#\" id=\"20088\" onclick='GetYearMonth(\"2008\",\"8\")'>August</a></li><li><a href=\"#\" id=\"20089\" onclick='GetYearMonth(\"2008\",\"9\")'>September</a></li><li><a href=\"#\" id=\"200810\" onclick='GetYearMonth(\"2008\",\"10\")'>October</a></li><li><a href=\"#\" id=\"200811\" onclick='GetYearMonth(\"2008\",\"11\")'>November</a></li><li><a href=\"#\" id=\"200812\" onclick='GetYearMonth(\"2008\",\"12\")'>December</a></li></ul></div><div class=\"accordionButton year\" id=\"btn2007\">2007</div><div class=\"accordionContent month\" id=\"2007\"><ul class=\"accordionlist\"><li><a href=\"#\" id=\"20070\" onclick='GetYearMonth(\"2007\",\"0\")'>All Months</a></li><li><a href=\"#\" id=\"20071\" onclick='GetYearMonth(\"2007\",\"1\")'>January</a></li><li><a href=\"#\" id=\"20072\" onclick='GetYearMonth(\"2007\",\"2\")'>February</a></li><li><a href=\"#\" id=\"20073\" onclick='GetYearMonth(\"2007\",\"3\")'>March</a></li><li><a href=\"#\" id=\"20074\" onclick='GetYearMonth(\"2007\",\"4\")'>April</a></li><li><a href=\"#\" id=\"20075\" onclick='GetYearMonth(\"2007\",\"5\")'>May</a></li><li><a href=\"#\" id=\"20076\" onclick='GetYearMonth(\"2007\",\"6\")'>June</a></li><li><a href=\"#\" id=\"20077\" onclick='GetYearMonth(\"2007\",\"7\")'>July</a></li><li><a href=\"#\" id=\"20078\" onclick='GetYearMonth(\"2007\",\"8\")'>August</a></li><li><a href=\"#\" id=\"20079\" onclick='GetYearMonth(\"2007\",\"9\")'>September</a></li><li><a href=\"#\" id=\"200710\" onclick='GetYearMonth(\"2007\",\"10\")'>October</a></li><li><a href=\"#\" id=\"200711\" onclick='GetYearMonth(\"2007\",\"11\")'>November</a></li><li><a href=\"#\" id=\"200712\" onclick='GetYearMonth(\"2007\",\"12\")'>December</a></li></ul></div><div class=\"accordionButton year\" id=\"btn2006\">2006</div><div class=\"accordionContent month\" id=\"2006\"><ul class=\"accordionlist\"><li><a href=\"#\" id=\"20060\" onclick='GetYearMonth(\"2006\",\"0\")'>All Months</a></li><li><a href=\"#\" id=\"20061\" onclick='GetYearMonth(\"2006\",\"1\")'>January</a></li><li><a href=\"#\" id=\"20062\" onclick='GetYearMonth(\"2006\",\"2\")'>February</a></li><li><a href=\"#\" id=\"20063\" onclick='GetYearMonth(\"2006\",\"3\")'>March</a></li><li><a href=\"#\" id=\"20064\" onclick='GetYearMonth(\"2006\",\"4\")'>April</a></li><li><a href=\"#\" id=\"20065\" onclick='GetYearMonth(\"2006\",\"5\")'>May</a></li><li><a href=\"#\" id=\"20066\" onclick='GetYearMonth(\"2006\",\"6\")'>June</a></li><li><a href=\"#\" id=\"20067\" onclick='GetYearMonth(\"2006\",\"7\")'>July</a></li><li><a href=\"#\" id=\"20068\" onclick='GetYearMonth(\"2006\",\"8\")'>August</a></li><li><a href=\"#\" id=\"20069\" onclick='GetYearMonth(\"2006\",\"9\")'>September</a></li><li><a href=\"#\" id=\"200610\" onclick='GetYearMonth(\"2006\",\"10\")'>October</a></li><li><a href=\"#\" id=\"200611\" onclick='GetYearMonth(\"2006\",\"11\")'>November</a></li><li><a href=\"#\" id=\"200612\" onclick='GetYearMonth(\"2006\",\"12\")'>December</a></li></ul></div><div class=\"accordionButton year\" id=\"btn2005\">2005</div><div class=\"accordionContent month\" id=\"2005\"><ul class=\"accordionlist\"><li><a href=\"#\" id=\"20050\" onclick='GetYearMonth(\"2005\",\"0\")'>All Months</a></li><li><a href=\"#\" id=\"20051\" onclick='GetYearMonth(\"2005\",\"1\")'>January</a></li><li><a href=\"#\" id=\"20052\" onclick='GetYearMonth(\"2005\",\"2\")'>February</a></li><li><a href=\"#\" id=\"20053\" onclick='GetYearMonth(\"2005\",\"3\")'>March</a></li><li><a href=\"#\" id=\"20054\" onclick='GetYearMonth(\"2005\",\"4\")'>April</a></li><li><a href=\"#\" id=\"20055\" onclick='GetYearMonth(\"2005\",\"5\")'>May</a></li><li><a href=\"#\" id=\"20056\" onclick='GetYearMonth(\"2005\",\"6\")'>June</a></li><li><a href=\"#\" id=\"20057\" onclick='GetYearMonth(\"2005\",\"7\")'>July</a></li><li><a href=\"#\" id=\"20058\" onclick='GetYearMonth(\"2005\",\"8\")'>August</a></li><li><a href=\"#\" id=\"20059\" onclick='GetYearMonth(\"2005\",\"9\")'>September</a></li><li><a href=\"#\" id=\"200510\" onclick='GetYearMonth(\"2005\",\"10\")'>October</a></li><li><a href=\"#\" id=\"200511\" onclick='GetYearMonth(\"2005\",\"11\")'>November</a></li><li><a href=\"#\" id=\"200512\" onclick='GetYearMonth(\"2005\",\"12\")'>December</a></li></ul></div><div class=\"accordionButton year\" id=\"btn2004\">2004</div><div class=\"accordionContent month\" id=\"2004\"><ul class=\"accordionlist\"><li><a href=\"#\" id=\"20040\" onclick='GetYearMonth(\"2004\",\"0\")'>All Months</a></li><li><a href=\"#\" id=\"20041\" onclick='GetYearMonth(\"2004\",\"1\")'>January</a></li><li><a href=\"#\" id=\"20042\" onclick='GetYearMonth(\"2004\",\"2\")'>February</a></li><li><a href=\"#\" id=\"20043\" onclick='GetYearMonth(\"2004\",\"3\")'>March</a></li><li><a href=\"#\" id=\"20044\" onclick='GetYearMonth(\"2004\",\"4\")'>April</a></li><li><a href=\"#\" id=\"20045\" onclick='GetYearMonth(\"2004\",\"5\")'>May</a></li><li><a href=\"#\" id=\"20046\" onclick='GetYearMonth(\"2004\",\"6\")'>June</a></li><li><a href=\"#\" id=\"20047\" onclick='GetYearMonth(\"2004\",\"7\")'>July</a></li><li><a href=\"#\" id=\"20048\" onclick='GetYearMonth(\"2004\",\"8\")'>August</a></li><li><a href=\"#\" id=\"20049\" onclick='GetYearMonth(\"2004\",\"9\")'>September</a></li><li><a href=\"#\" id=\"200410\" onclick='GetYearMonth(\"2004\",\"10\")'>October</a></li><li><a href=\"#\" id=\"200411\" onclick='GetYearMonth(\"2004\",\"11\")'>November</a></li><li><a href=\"#\" id=\"200412\" onclick='GetYearMonth(\"2004\",\"12\")'>December</a></li></ul></div><div class=\"accordionButton year\" id=\"btn2003\">2003</div><div class=\"accordionContent month\" id=\"2003\"><ul class=\"accordionlist\"><li><a href=\"#\" id=\"20030\" onclick='GetYearMonth(\"2003\",\"0\")'>All Months</a></li><li><a href=\"#\" id=\"20031\" onclick='GetYearMonth(\"2003\",\"1\")'>January</a></li><li><a href=\"#\" id=\"20032\" onclick='GetYearMonth(\"2003\",\"2\")'>February</a></li><li><a href=\"#\" id=\"20033\" onclick='GetYearMonth(\"2003\",\"3\")'>March</a></li><li><a href=\"#\" id=\"20034\" onclick='GetYearMonth(\"2003\",\"4\")'>April</a></li><li><a href=\"#\" id=\"20035\" onclick='GetYearMonth(\"2003\",\"5\")'>May</a></li><li><a href=\"#\" id=\"20036\" onclick='GetYearMonth(\"2003\",\"6\")'>June</a></li><li><a href=\"#\" id=\"20037\" onclick='GetYearMonth(\"2003\",\"7\")'>July</a></li><li><a href=\"#\" id=\"20038\" onclick='GetYearMonth(\"2003\",\"8\")'>August</a></li><li><a href=\"#\" id=\"20039\" onclick='GetYearMonth(\"2003\",\"9\")'>September</a></li><li><a href=\"#\" id=\"200310\" onclick='GetYearMonth(\"2003\",\"10\")'>October</a></li><li><a href=\"#\" id=\"200311\" onclick='GetYearMonth(\"2003\",\"11\")'>November</a></li><li><a href=\"#\" id=\"200312\" onclick='GetYearMonth(\"2003\",\"12\")'>December</a></li></ul></div><div class=\"accordionButton year\" id=\"btn2002\">2002</div><div class=\"accordionContent month\" id=\"2002\"><ul class=\"accordionlist\"><li><a href=\"#\" id=\"20020\" onclick='GetYearMonth(\"2002\",\"0\")'>All Months</a></li><li><a href=\"#\" id=\"20021\" onclick='GetYearMonth(\"2002\",\"1\")'>January</a></li><li><a href=\"#\" id=\"20022\" onclick='GetYearMonth(\"2002\",\"2\")'>February</a></li><li><a href=\"#\" id=\"20023\" onclick='GetYearMonth(\"2002\",\"3\")'>March</a></li><li><a href=\"#\" id=\"20024\" onclick='GetYearMonth(\"2002\",\"4\")'>April</a></li><li><a href=\"#\" id=\"20025\" onclick='GetYearMonth(\"2002\",\"5\")'>May</a></li><li><a href=\"#\" id=\"20026\" onclick='GetYearMonth(\"2002\",\"6\")'>June</a></li><li><a href=\"#\" id=\"20027\" onclick='GetYearMonth(\"2002\",\"7\")'>July</a></li><li><a href=\"#\" id=\"20028\" onclick='GetYearMonth(\"2002\",\"8\")'>August</a></li><li><a href=\"#\" id=\"20029\" onclick='GetYearMonth(\"2002\",\"9\")'>September</a></li><li><a href=\"#\" id=\"200210\" onclick='GetYearMonth(\"2002\",\"10\")'>October</a></li><li><a href=\"#\" id=\"200211\" onclick='GetYearMonth(\"2002\",\"11\")'>November</a></li><li><a href=\"#\" id=\"200212\" onclick='GetYearMonth(\"2002\",\"12\")'>December</a></li></ul></div><div class=\"accordionButton year\" id=\"btn2001\">2001</div><div class=\"accordionContent month\" id=\"2001\"><ul class=\"accordionlist\"><li><a href=\"#\" id=\"20010\" onclick='GetYearMonth(\"2001\",\"0\")'>All Months</a></li><li><a href=\"#\" id=\"20011\" onclick='GetYearMonth(\"2001\",\"1\")'>January</a></li><li><a href=\"#\" id=\"20012\" onclick='GetYearMonth(\"2001\",\"2\")'>February</a></li><li><a href=\"#\" id=\"20013\" onclick='GetYearMonth(\"2001\",\"3\")'>March</a></li><li><a href=\"#\" id=\"20014\" onclick='GetYearMonth(\"2001\",\"4\")'>April</a></li><li><a href=\"#\" id=\"20015\" onclick='GetYearMonth(\"2001\",\"5\")'>May</a></li><li><a href=\"#\" id=\"20016\" onclick='GetYearMonth(\"2001\",\"6\")'>June</a></li><li><a href=\"#\" id=\"20017\" onclick='GetYearMonth(\"2001\",\"7\")'>July</a></li><li><a href=\"#\" id=\"20018\" onclick='GetYearMonth(\"2001\",\"8\")'>August</a></li><li><a href=\"#\" id=\"20019\" onclick='GetYearMonth(\"2001\",\"9\")'>September</a></li><li><a href=\"#\" id=\"200110\" onclick='GetYearMonth(\"2001\",\"10\")'>October</a></li><li><a href=\"#\" id=\"200111\" onclick='GetYearMonth(\"2001\",\"11\")'>November</a></li><li><a href=\"#\" id=\"200112\" onclick='GetYearMonth(\"2001\",\"12\")'>December</a></li></ul></div><div class=\"accordionButton year\" id=\"btn2000\">2000</div><div class=\"accordionContent month\" id=\"2000\"><ul class=\"accordionlist\"><li><a href=\"#\" id=\"20000\" onclick='GetYearMonth(\"2000\",\"0\")'>All Months</a></li><li><a href=\"#\" id=\"20001\" onclick='GetYearMonth(\"2000\",\"1\")'>January</a></li><li><a href=\"#\" id=\"20002\" onclick='GetYearMonth(\"2000\",\"2\")'>February</a></li><li><a href=\"#\" id=\"20003\" onclick='GetYearMonth(\"2000\",\"3\")'>March</a></li><li><a href=\"#\" id=\"20004\" onclick='GetYearMonth(\"2000\",\"4\")'>April</a></li><li><a href=\"#\" id=\"20005\" onclick='GetYearMonth(\"2000\",\"5\")'>May</a></li><li><a href=\"#\" id=\"20006\" onclick='GetYearMonth(\"2000\",\"6\")'>June</a></li><li><a href=\"#\" id=\"20007\" onclick='GetYearMonth(\"2000\",\"7\")'>July</a></li><li><a href=\"#\" id=\"20008\" onclick='GetYearMonth(\"2000\",\"8\")'>August</a></li><li><a href=\"#\" id=\"20009\" onclick='GetYearMonth(\"2000\",\"9\")'>September</a></li><li><a href=\"#\" id=\"200010\" onclick='GetYearMonth(\"2000\",\"10\")'>October</a></li><li><a href=\"#\" id=\"200011\" onclick='GetYearMonth(\"2000\",\"11\")'>November</a></li><li><a href=\"#\" id=\"200012\" onclick='GetYearMonth(\"2000\",\"12\")'>December</a></li></ul></div></div></div></div></span>\n",
              "</div>\n",
              "</div>\n",
              "</div>\n",
              "<div class=\"clearfix\">\n",
              "</div>\n",
              "<a class=\"scrollToTop\" href=\"#top\" id=\"backToTop\">Top</a>\n",
              "<footer class=\"footer\">\n",
              "<div class=\"footer\">\n",
              "<div class=\"container_12\">\n",
              "<div class=\"grid_9\" style=\"width:895px !important\">\n",
              "<h4><span class=\"blue\">More</span> Links :</h4>\n",
              "<div class=\"grid_2 alpha\" style=\"width:150px !important\">\n",
              "<ul class=\"footerlist\">\n",
              "<!--<li><a target=\"_blank\" href=\"/Scripts/ExternalResearchSchemes.aspx\">Research Portal</a></li>-->\n",
              "<li><a href=\"/FinancialEducation/Home.aspx\" target=\"_blank\">Financial Education</a></li>\n",
              "<li><a href=\"https://rbikehtahai.rbi.org.in/\" target=\"_blank\">RBI Kehta Hai</a></li>\n",
              "<li><a href=\"/Scripts/FAQDisplay.aspx\">FAQs</a></li>\n",
              "<!--<li><a href=\"/Scripts/Glossary.aspx\">Glossary</a></li>-->\n",
              "<li><a href=\"/Scripts/IFSCMICRDetails.aspx\">IFSC/MICR Codes</a></li>\n",
              "</ul>\n",
              "</div>\n",
              "<div class=\"grid_2 omega\" style=\"width:215px !important;\">\n",
              "<ul class=\"footerlist\">\n",
              "<li><a href=\"/Scripts/BS_ViewTenders.aspx\">Tenders</a></li>\n",
              "<li><a href=\"https://opportunities.rbi.org.in/scripts/index.aspx\" target=\"_blank\">Opportunities<font>@</font>RBI</a></li>\n",
              "<li><a href=\"/Scripts/HolidayMatrixDisplay.aspx\">Bank Holidays</a></li>\n",
              "<li><a href=\"/Scripts/BS_ViewForms.aspx\">Forms</a></li>\n",
              "</ul>\n",
              "</div>\n",
              "<div class=\"grid_2 alpha omega\" style=\"width:254px !important;\">\n",
              "<ul class=\"footerlist\">\n",
              "<li><a href=\"/Scripts/EventsDisplay.aspx\">Events</a></li>\n",
              "<!--<li><a href=\"/Scripts/PublicEngagement.aspx\">Public Speaking Engagements</a></li>-->\n",
              "<li><a href=\"/Scripts/rbi_clarification.aspx\">RBI Clarifications</a></li>\n",
              "<li><a href=\"/Scripts/Righttoinfoact.aspx\">Right to Information Act</a></li>\n",
              "<li><a href=\"/Scripts/OtherLinks.aspx\">Related Links</a></li>\n",
              "<li><a href=\"https://rbidocs.rbi.org.in/rdocs/RBIcorepurpose/Utkarsh23072019.PDF\">RBI's Core Purpose, Values and Vision</a></li>\n",
              "</ul>\n",
              "</div>\n",
              "<div class=\"grid_2\" style=\"width:215px !important;\">\n",
              "<ul class=\"footerlist\">\n",
              "<li><a href=\"/Scripts/CitiChart.aspx\">Citizens' Charter</a></li>\n",
              "<li><a href=\"/Scripts/Timlines.aspx\">Timelines for Regulatory Approvals</a></li>\n",
              "<li><a href=\"/Scripts/Complaints.aspx\">Complaints</a></li>\n",
              "<li><a href=\"/Scripts/helpdesk.aspx\">Contact Us</a></li>\n",
              "<!--<li><a href=\"https://shabdavali.rbi.org.in/\">Banking Glossary</a></li>-->\n",
              "</ul>\n",
              "</div>\n",
              "</div>\n",
              "<div class=\"grid_3\" style=\"width:135px !important\">\n",
              "<h4><span class=\"blue\">Follow</span> RBI </h4>\n",
              "<ul class=\"footerlist\">\n",
              "<li><a href=\"/Scripts/rss.aspx\"><img alt=\"Subscribe to RSS\" class=\"rss\" src=\"/images/rss-icon.png\">RSS</img></a></li>\n",
              "<li><a class=\"twitter\" href=\"https://twitter.com/RBI\" target=\"_blank\"><img alt=\"Follow RBI on Twitter\" class=\"twitter\" height=\"22px\" src=\"/images/Twitter_Logo_Blue.png\" width=\"22px\">Twitter</img></a></li>\n",
              "<!--<li><a href=\"https://www.youtube.com/channel/UCIfCOl43tunZVNYafeC4RQA\" class=\"videos\" target=\"_blank\"><img src=\"/images/videos-icon.png\" alt=\"Check RBI Videos\" class=\"videos\"/>Videos</a></li>-->\n",
              "<li><a class=\"videos\" href=\"https://www.youtube.com/channel/UCIfCOl43tunZVNYafeC4RQA\" target=\"_blank\"><img alt=\"Check RBI Videos\" class=\"videos\" src=\"/images/youtube.png\">YouTube</img></a></li>\n",
              "</ul>\n",
              "</div>\n",
              "<div class=\"clearfix\"></div>\n",
              "</div>\n",
              "<div class=\"copyright\">\n",
              "<div class=\"container_12\">\n",
              "<div class=\"grid_6 pull_left\">© Reserve Bank of India. All Rights Reserved.</div>\n",
              "<div class=\"grid_5 pull_right\"><a href=\"/Scripts/sitemap.aspx\">Sitemap</a> | <a href=\"/Scripts/Disclaimer.aspx\">Disclaimer</a></div>\n",
              "<div class=\"clearfix\"></div>\n",
              "</div>\n",
              "</div>\n",
              "<!--Welcome note-->\n",
              "<div id=\"boxesWN\">\n",
              "<div class=\"window\" id=\"dialogWN\" style=\"top:100px;\">\n",
              "<div> <img alt=\"Rbi note\" height=\"60\" src=\"/images/Rbinote.jpeg\" width=\"60\"> </img></div>\n",
              "<table class=\"WelcomeNote\">\n",
              "<tr>\n",
              "<td style=\"float:right;\">\n",
              "\n",
              "   April 14, 2015\n",
              "   </td>\n",
              "</tr>\n",
              "<tr>\n",
              "<td>\n",
              "    \n",
              "   Dear All\n",
              "    </td>\n",
              "</tr>\n",
              "<tr>\n",
              "<td>\n",
              "     \n",
              "  Welcome to the refurbished site of the Reserve Bank of India. \n",
              "    </td>\n",
              "</tr>\n",
              "<tr>\n",
              "<td>\n",
              "    \n",
              "  The two most important features of the site are: One, in addition to the default site, the refurbished site also has all the information bifurcated functionwise; two, a much improved search – well, at least we think so but you be the judge. \n",
              "    </td>\n",
              "</tr>\n",
              "<tr>\n",
              "<td>\n",
              "   With this makeover, we also take a small step into social media. We will now use Twitter (albeit one way) to send out alerts on the announcements we make and YouTube to place in public domain our press conferences, interviews of our top management, events, such as, town halls and of course, some films aimed at consumer literacy.  \n",
              "    </td>\n",
              "</tr>\n",
              "<tr>\n",
              "<td>\n",
              "    The site can be accessed through most browsers and devices; it also meets accessibility standards. \n",
              "    </td>\n",
              "</tr>\n",
              "<tr>\n",
              "<td>\n",
              "    Please save the url of the refurbished site in your favourites as we will give up the existing site shortly and register or re-register yourselves for receiving RSS feeds for uninterrupted alerts from the Reserve Bank. \n",
              "    </td>\n",
              "</tr>\n",
              "<tr>\n",
              "<td>\n",
              "    Do feel free to give us your feedback by clicking on the feedback button on the right hand corner of the refurbished site. \n",
              "    </td>\n",
              "</tr>\n",
              "<tr>\n",
              "<td>\n",
              "    Thank you for your continued support.<br/><br/>\n",
              "</td>\n",
              "</tr>\n",
              "<tr>\n",
              "<td>\n",
              "<strong>\n",
              "    Department of Communication <br/>\n",
              "Reserve Bank of India</strong>\n",
              "</td>\n",
              "</tr>\n",
              "<tr><td id=\"popupfootWN\"><a class=\"close agree\" href=\"#\" style=\"float:right\">Next</a></td></tr>\n",
              "</table>\n",
              "<!-- <div id=\"popupfootWN\"> <a href=\"#\" class=\"close agree\" style=\"float:right\" >Next</a>    </div>--><!--<img src=\"../images/button_close.gif\" alt=\"Close\" class=\"close agree\" />-->\n",
              "</div>\n",
              "<div id=\"maskWN\" style=\"width:100% !important\"></div>\n",
              "<!--<div id=\"feedbackbtn\"><a href=\"#\"><div align=\"center\" class=\"feedbacktext\">Feedback</div></a></div>-->\n",
              "</div>\n",
              "</div>\n",
              "</footer>\n",
              "<!--<script type=\"text/javascript\" src=\"/js/URLchange.js\"></script>-->\n",
              "<!-- For live comment out below line.-->\n",
              "<script src=\"/js/ReplaceURL.js\" type=\"text/javascript\"></script>\n",
              "<script src=\"/js/jquery.cookie.js\" type=\"text/javascript\"></script>\n",
              "<script language=\"javascript\" type=\"text/javascript\">\n",
              "\n",
              "\n",
              "    //this is for floating TOP link\n",
              "    \n",
              "    $(document).ready(function () {\n",
              "\n",
              "        var offset = 230;\n",
              "        var duration = 500;\n",
              "\n",
              "\n",
              "        jQuery(window).scroll(function () {\n",
              "            if (jQuery(this).scrollTop() > offset) {\n",
              "                jQuery('.scrollToTop').fadeIn(duration);\n",
              "                // $('#backToTop').css('right', (diffWidth / 2) - 6);\n",
              "            } else {\n",
              "                jQuery('.scrollToTop').fadeOut(duration);\n",
              "                //  $('#backToTop').css('right', (diffWidth / 2) - 6);\n",
              "            }\n",
              "        });\n",
              "\n",
              "        //        $('a[href*=#]:not([href=#])').click(function () {\n",
              "\n",
              "        //            if (location.pathname.replace(/^\\//, '') == window.location.pathname.replace(/^\\//, '') && location.hostname == window.location.hostname) {\n",
              "\n",
              "        //                var target = $(this.hash);\n",
              "        //                target = target.length ? target : $('[name=' + this.hash.slice(1) + ']');\n",
              "        //                if (target.length) {\n",
              "        //                    $('html,body').animate({\n",
              "        //                        scrollTop: target.offset().top\n",
              "        //                    }, 800);\n",
              "        //                    return false;\n",
              "        //                }\n",
              "        //            }\n",
              "        //        });\n",
              "\n",
              "        $('.scrollToTop').click(function () {\n",
              "            $('html, body').animate({ scrollTop: 0 }, 800);\n",
              "            return false;\n",
              "        });\n",
              "    });\n",
              "\n",
              "\n",
              "    //Below code is for floating left panel and floating tree structure\n",
              "    //first if condition is for functionwise pages and 2nd one for rest all\n",
              "    $(window).scroll(function () {\n",
              "\n",
              "        if ($('div.banner2').length) {\n",
              "\n",
              "            if ($(window).scrollTop() >= 265) {\n",
              "                $('#menubar').css(\"position\", \"fixed\");\n",
              "                $('#menubar').css(\"width\", \"240px\");\n",
              "                $('#menubar').css(\"margin-top\", \"-281px\");\n",
              "                $('.content_area').css(\"margin-left\", \"252px\");\n",
              "\n",
              "                $('.sidebar_nav').css(\"position\", \"fixed\");\n",
              "                $('.sidebar_nav').css(\"margin-top\", \"-200px\");\n",
              "                $('.sidebar_nav').css(\"width\", \"236px\");\n",
              "\n",
              "\n",
              "                $('#DateSettree_lbltree').css('position', 'fixed');\n",
              "                $('#DateSettree_lbltree').css('margin-top', '-281px');\n",
              "\n",
              "            }\n",
              "\n",
              "            else {\n",
              "                $('#menubar').css(\"position\", \"\");\n",
              "                $('#menubar').css(\"width\", \"\");\n",
              "                $('#menubar').css(\"margin-top\", \"\");\n",
              "                $('.content_area').css(\"margin-left\", \"\");\n",
              "\n",
              "                $('.sidebar_nav').css(\"position\", \"\");\n",
              "                $('.sidebar_nav').css(\"margin-top\", \"\");\n",
              "                $('.sidebar_nav').css(\"width\", \"\");\n",
              "\n",
              "\n",
              "\n",
              "                $('#DateSettree_lbltree').css('position', '');\n",
              "                $('#DateSettree_lbltree').css('margin-top', '');\n",
              "            }\n",
              "\n",
              "        }\n",
              "\n",
              "        else if ($(window).scrollTop() >= 185) {\n",
              "            $('#menubar').css(\"position\", \"fixed\");\n",
              "            $('#menubar').css(\"width\", \"240px\");\n",
              "            $('#menubar').css(\"margin-top\", \"-200px\");\n",
              "            $('.content_area').css(\"margin-left\", \"252px\");\n",
              "\n",
              "            $('.sidebar_nav').css(\"position\", \"fixed\");\n",
              "            $('.sidebar_nav').css(\"margin-top\", \"-200px\");\n",
              "            $('.sidebar_nav').css(\"width\", \"236px\");\n",
              "\n",
              "\n",
              "            $('#DateSettree_lbltree').css('position', 'fixed');\n",
              "            $('#DateSettree_lbltree').css('margin-top', '-200px');\n",
              "\n",
              "        }\n",
              "\n",
              "        else {\n",
              "            $('#menubar').css(\"position\", \"\");\n",
              "            $('#menubar').css(\"width\", \"\");\n",
              "            $('#menubar').css(\"margin-top\", \"\");\n",
              "            $('.content_area').css(\"margin-left\", \"\");\n",
              "\n",
              "            $('.sidebar_nav').css(\"position\", \"\");\n",
              "            $('.sidebar_nav').css(\"margin-top\", \"\");\n",
              "            $('.sidebar_nav').css(\"width\", \"\");\n",
              "\n",
              "\n",
              "            $('#DateSettree_lbltree').css('position', '');\n",
              "            $('#DateSettree_lbltree').css('margin-top', '');\n",
              "        }\n",
              "//        if ($(window).scrollTop() >= 235) {\n",
              "\n",
              "//            $('#DateSettree_lbltree').css('height', '183px');\n",
              "//            $('#DateSettree_lbltree').css('overflow-y', 'scroll');\n",
              "//            $('#DateSettree_lbltree').css('width', '100px');\n",
              "\n",
              "//        }\n",
              "//        else {\n",
              "//            $('#DateSettree_lbltree').css('height', '');\n",
              "//            $('#DateSettree_lbltree').css('overflow-y', '');\n",
              "//            $('#DateSettree_lbltree').css('width', '');\n",
              "\n",
              "//        }\n",
              "\n",
              "       \n",
              "    });\n",
              "\t\n",
              "       // $(window).unload(function () {\n",
              "       //     $.cookies.del('feedback_Cookie'); \n",
              "       // });\n",
              "    $(document).ready(function () {\n",
              "\t\n",
              "\t\n",
              "\t\t  $('.window .close').click(function (e) {\n",
              "            //Cancel the link behavior\n",
              "            e.preventDefault();\n",
              "            $.cookie('feedback_Cookie', 'Yes', { expires: 365, path: '/' });\n",
              "            $('#maskWN').hide();\n",
              "            $('.window').hide();\n",
              "            var scroll = $(window).scrollTop();\n",
              "            $(\"html\").scrollTop(scroll);\n",
              "        });\n",
              "\t\t\n",
              "\t\t $('#maskWN').click(function () {\n",
              "            $(this).hide();\n",
              "            $.cookie('feedback_Cookie', 'Yes', { expires: 365, path: '/' });\n",
              "            $('.window').hide();\n",
              "\n",
              "        });\n",
              "\n",
              "        //        if ($.cookie('feedback_Cookie') == null) {\n",
              "        //            var id = '#dialog';\n",
              "\n",
              "        //            //Get the screen height and width\n",
              "        //            var maskHeight = $(document).height();\n",
              "        //            var maskWidth = $(window).width();\n",
              "        //           \n",
              "\n",
              "        //            //Set heigth and width to mask to fill up the whole screen\n",
              "        //            $('#mask').css({ 'width': '100%', 'height': '100%','position':'fixed' });\n",
              "\n",
              "        //            //transition effect\n",
              "        //            $('#mask').fadeIn(500);\n",
              "        //            $('#mask').fadeTo(\"slow\", 0.9);\n",
              "\n",
              "        //            //Get the window height and width\n",
              "        //            var winH = $(window).height();\n",
              "        //            var winW = $(window).width();\n",
              "\n",
              "        //            //Set the popup window to center\n",
              "        //            $(id).css('top', winH / 2 - $(id).height() / 2);\n",
              "        //            $(id).css('left', winW / 2 - $(id).width() / 2);\n",
              "\n",
              "        //            //transition effect\n",
              "        //            $(id).fadeIn(2000);\n",
              "\n",
              "\n",
              "\n",
              "        //        }\n",
              "//        $('blockquote p').css('margin','auto');\n",
              "//        $('blockquote blockquote blockquote p').contents().contents().unwrap();\n",
              "//        $('blockquote blockquote blockquote').contents().unwrap();\n",
              "//        $('blockquote blockquote').contents().unwrap();\n",
              "//        $('blockquote').contents().unwrap();\n",
              "        \n",
              "\n",
              "        //if close button is clicked\n",
              "        $('.window .close').click(function (e) {\n",
              "            //Cancel the link behavior\n",
              "            e.preventDefault();\n",
              "            $.cookie('feedback_Cookie', 'Yes', { expires: 365, path: '/' });\n",
              "            $('#mask').hide();\n",
              "            $('.window').hide();\n",
              "            var scroll = $(window).scrollTop();\n",
              "            $(\"html\").scrollTop(scroll);\n",
              "        });\n",
              "\n",
              "        //if mask is clicked\n",
              "        $('#mask').click(function () {\n",
              "            $(this).hide();\n",
              "            $('.window').hide();\n",
              "        });\n",
              "        $('#feedbackbtn').click(function () {\n",
              "            var id = '#dialog';\n",
              "\n",
              "            //Get the screen height and width\n",
              "            var maskHeight = $(document).height();\n",
              "            var maskWidth = $(window).width();\n",
              "\n",
              "            //Set heigth and width to mask to fill up the whole screen\n",
              "            //$('#mask').css({ 'width': maskWidth, 'height': maskHeight });\n",
              "            $('#mask').css({ 'width': '100%', 'height': '100%', 'position': 'fixed' });\n",
              "\n",
              "            //transition effect\n",
              "            $('#mask').fadeIn(500);\n",
              "            $('#mask').fadeTo(\"slow\", 0.9);\n",
              "\n",
              "            //Get the window height and width\n",
              "            var winH = $(window).height();\n",
              "            var winW = $(window).width();\n",
              "\n",
              "            //Set the popup window to center\n",
              "            $(id).css('top', winH / 2 - $(id).height() / 2);\n",
              "            $(id).css('left', winW / 2 - $(id).width() / 2);\n",
              "\n",
              "            //transition effect\n",
              "            $(id).fadeIn(2000);\n",
              "        });\n",
              "\n",
              "        $('.submit').click(function () {\n",
              "            var Name = $(\"[id*=txtFeedbackName]\").val();\n",
              "            var Email = $(\"[id*=txtFeedbackEmail]\").val();\n",
              "            var Comments = $(\"[id*=txtFeedbackComments]\").val();\n",
              "            if (Name == \"\") {\n",
              "\n",
              "                alert(\"Please enter your name\");\n",
              "                $(\"[id*=txtFeedbackName]\").focus();\n",
              "                return false;\n",
              "            }\n",
              "            else if (Email == \"\") {\n",
              "                alert(\"Please enter your email\");\n",
              "                $(\"[id*=txtFeedbackEmail]\").focus();\n",
              "                return false;\n",
              "            }\n",
              "            else if (Email != \"\" && !ValidateEmail(Email)) {\n",
              "                alert(\"Please enter a valid email address\");\n",
              "                $(\"[id*=txtFeedbackEmail]\").focus();\n",
              "                return false;\n",
              "            }\n",
              "\n",
              "            else if (Comments == \"\") {\n",
              "\n",
              "                alert(\"Please enter some comments\");\n",
              "                $(\"[id*=txtFeedbackComments]\").focus();\n",
              "                return false;\n",
              "            }\n",
              "\n",
              "            else {\n",
              "                $('[id*=Button1]').attr('disabled', 'disabled');\n",
              "\n",
              "                var param = { Name: Name, EmailID: Email, Comments: Comments };\n",
              "                $.ajax({\n",
              "                    type: \"POST\",\n",
              "                    url: \"../Home.aspx/SaveFeedback\",\n",
              "                    data: JSON.stringify(param),\n",
              "                    contentType: \"application/json; charset=utf-8\",\n",
              "                    dataType: \"json\",\n",
              "\n",
              "                    success: function (response) {\n",
              "\n",
              "                        if (response.d == \"0\") {\n",
              "                            alert(\"Thank you for your feedback\");\n",
              "                            $.cookie('feedback_Cookie', 'Yes', { expires: 365, path: '/' });\n",
              "                            $('#mask').hide();\n",
              "                            $('.window').hide();\n",
              "                            $('[id*=Button1]').removeAttr('disabled');\n",
              "                            $(\"[id*=txtFeedbackName]\").val(\"\");\n",
              "                            $(\"[id*=txtFeedbackEmail]\").val(\"\");\n",
              "                            $(\"[id*=txtFeedbackComments]\").val(\"\");\n",
              "                        }\n",
              "                        else {\n",
              "                            alert(\"Please try again\");\n",
              "                            $('[id*=Button1]').removeAttr('disabled');\n",
              "\n",
              "\n",
              "                        }\n",
              "\n",
              "                    }\n",
              "                });\n",
              "            }\n",
              "\n",
              "        });\n",
              "\n",
              "        function ValidateEmail(email) {\n",
              "            var expr = /^([\\w-\\.]+)@((\\[[0-9]{1,3}\\.[0-9]{1,3}\\.[0-9]{1,3}\\.)|(([\\w-]+\\.)+))([a-zA-Z]{2,4}|[0-9]{1,3})(\\]?)$/;\n",
              "            return expr.test(email);\n",
              "        };\n",
              "\n",
              "        //        $('#divArchiveMain').click(function () {\n",
              "        //            \n",
              "        //            if ($(window).scrollTop() >= 235) {\n",
              "\n",
              "        //                $('#DateSettree_lbltree').css('height', '181px');\n",
              "        //                $('#DateSettree_lbltree').css('overflow-y', 'scroll');\n",
              "        //                $('#DateSettree_lbltree').css('width', '100px');\n",
              "\n",
              "        //            }\n",
              "        //            else {\n",
              "        //                $('#DateSettree_lbltree').css('height', '');\n",
              "        //                $('#DateSettree_lbltree').css('overflow-y', '');\n",
              "        //                $('#DateSettree_lbltree').css('width', '');\n",
              "\n",
              "        //            }\n",
              "        //        });\n",
              "\n",
              "        $('a.style1').each(function () {\n",
              "\n",
              "            var $this = $(this);\n",
              "            var aHref = $this.attr('class');\n",
              "            $this.attr('class', aHref.replace('style1', 'links'));\n",
              "        });\n",
              "    });\n",
              "\n",
              "</script>\n",
              "<script type=\"text/javascript\">\n",
              "  (function(i,s,o,g,r,a,m){i['GoogleAnalyticsObject']=r;i[r]=i[r]||function(){\n",
              "  (i[r].q=i[r].q||[]).push(arguments)},i[r].l=1*new Date();a=s.createElement(o),\n",
              "  m=s.getElementsByTagName(o)[0];a.async=1;a.src=g;m.parentNode.insertBefore(a,m)\n",
              "  })(window,document,'script','//www.google-analytics.com/analytics.js','ga');\n",
              "\n",
              "  ga('create', 'UA-61369961-1', 'auto');\n",
              "  ga('send', 'pageview');\n",
              "\n",
              "</script></form>\n",
              "</body>\n",
              "</html>\n",
              "<script src=\"/js/plugins.js\" type=\"text/javascript\"></script>\n",
              "<script src=\"/js/script.js\" type=\"text/javascript\"></script>\n",
              "<script src=\"/js/Scroll.js\" type=\"text/javascript\"></script>\n",
              "<script language=\"javascript\" type=\"text/javascript\">\n",
              "    function GetYearMonth(year, month) {\n",
              "        document.getElementById(\"hdnYear\").value = year;\n",
              "        document.getElementById(\"hdnMonth\").value = month;\n",
              "        document.getElementById(\"btn\").click();\n",
              "    }\n",
              "    //Implemented onlick for 'archives' link in tree structure\n",
              "    function hideshow(divArchive) {\n",
              "        if (!document.getElementById(divArchive))\n",
              "            return\n",
              "        if (document.getElementById(divArchive).style.display == \"block\")\n",
              "            document.getElementById(divArchive).style.display = \"none\"\n",
              "        else\n",
              "            document.getElementById(divArchive).style.display = \"block\"\n",
              "    }\n",
              "    function SetTreeStyles() {\n",
              "        var strYear = document.getElementById(\"hdnYear\").value;\n",
              "        var strMonth = document.getElementById(\"hdnMonth\").value\n",
              "        if (strYear != \"\") {\n",
              "            var toDay = new Date();\n",
              "            document.getElementById(\"btn\" + strYear).setAttribute(\"class\", \"accordionButton year active_year\");\n",
              "            document.getElementById(strYear).style.display = \"block\";\n",
              "            if (strMonth) document.getElementById(strYear + strMonth).setAttribute(\"class\", \"active\");\n",
              "            if (toDay.getFullYear() - 9 > parseInt(strYear)) { document.getElementById(\"divArchiveSub\").style.display = \"block\" }\n",
              "        }\n",
              "    }\n",
              "</script>\n",
              "<script language=\"javascript\" type=\"text/javascript\">\n",
              "    //alert('hi');\n",
              "    //DoubleScroll(document.getElementById('doublescroll', 12));\n",
              "    DoubleScrollWithTree(document.getElementById('doublescroll'));\n",
              "</script>"
            ]
          },
          "metadata": {
            "tags": []
          },
          "execution_count": 37
        }
      ]
    },
    {
      "cell_type": "code",
      "metadata": {
        "id": "_WiN5BFaskU-",
        "colab": {
          "base_uri": "https://localhost:8080/"
        },
        "outputId": "38e9d441-ecc2-4faa-8e9a-42de70e29984"
      },
      "source": [
        "table = soup.find(id=\"doublescroll\")\n",
        "table"
      ],
      "execution_count": null,
      "outputs": [
        {
          "output_type": "execute_result",
          "data": {
            "text/plain": [
              "<div id=\"doublescroll\">\n",
              "<table align=\"center\" border=\"0\" cellpadding=\"0\" cellspacing=\"0\" width=\"100%\">\n",
              "<table class=\"tablebg\" width=\"100%\"><tr><td class=\"tableheader\" colspan=\"8\"><b>April - 2021<b></b></b></td></tr><tr><td colspan=\"6\" style=\"word-wrap:break-word;width:450;\"><a class=\"link2\" href=\"ATMView.aspx?atmid=122\">Bank-wise ATM/POS/Card Statistics - April 2021</a></td><td nowrap=\"\"><a href=\"https://rbidocs.rbi.org.in/rdocs/ATM/DOCs/ATM042021993978DBFB0444238E54236AF959B61E.XLSX\" target=\"_blank\"><img align=\"absmiddle\" border=\"0\" height=\"16\" src=\"../Images/xls.gif\" width=\"16\"/></a> 26 kb</td><td nowrap=\"\"><a href=\"https://rbidocs.rbi.org.in/rdocs/ATM/PDFs/ATM042021993978DBFB0444238E54236AF959B61E.PDF\" target=\"_blank\"><img align=\"absmiddle\" border=\"0\" height=\"16\" src=\"../Images/pdf.gif\" width=\"16\"/></a> 78 kb</td></tr><tr><td class=\"tableheader\" colspan=\"8\"><b>March - 2021<b></b></b></td></tr><tr><td colspan=\"6\" style=\"word-wrap:break-word;width:450;\"><a class=\"link2\" href=\"ATMView.aspx?atmid=121\">Bank-wise ATM/POS/Card Statistics - March 2021</a></td><td nowrap=\"\"><a href=\"https://rbidocs.rbi.org.in/rdocs/ATM/DOCs/ATM18052021_F4DEA491557B44E2385D6FD2F5CADDF6F.XLSX\" target=\"_blank\"><img align=\"absmiddle\" border=\"0\" height=\"16\" src=\"../Images/xls.gif\" width=\"16\"/></a> 21 kb</td><td nowrap=\"\"><a href=\"https://rbidocs.rbi.org.in/rdocs/ATM/PDFs/ATM18052021_F4DEA491557B44E2385D6FD2F5CADDF6F.PDF\" target=\"_blank\"><img align=\"absmiddle\" border=\"0\" height=\"16\" src=\"../Images/pdf.gif\" width=\"16\"/></a> 78 kb</td></tr><tr><td class=\"tableheader\" colspan=\"8\"><b>February - 2021<b></b></b></td></tr><tr><td colspan=\"6\" style=\"word-wrap:break-word;width:450;\"><a class=\"link2\" href=\"ATMView.aspx?atmid=120\">Bank-wise ATM/POS/Card Statistics - February 2021 (<span style=\"color: red\">Revised</span>)</a></td><td nowrap=\"\"><a href=\"https://rbidocs.rbi.org.in/rdocs/ATM/DOCs/ATM150420211082B589FD794427A7DC323DA2EEEC25.XLSX\" target=\"_blank\"><img align=\"absmiddle\" border=\"0\" height=\"16\" src=\"../Images/xls.gif\" width=\"16\"/></a> 21 kb</td><td nowrap=\"\"><a href=\"https://rbidocs.rbi.org.in/rdocs/ATM/PDFs/ATM150420211082B589FD794427A7DC323DA2EEEC25.PDF\" target=\"_blank\"><img align=\"absmiddle\" border=\"0\" height=\"16\" src=\"../Images/pdf.gif\" width=\"16\"/></a> 171 kb</td></tr><tr><td class=\"tableheader\" colspan=\"8\"><b>January - 2021<b></b></b></td></tr><tr><td colspan=\"6\" style=\"word-wrap:break-word;width:450;\"><a class=\"link2\" href=\"ATMView.aspx?atmid=119\">Bank-wise ATM/POS/Card Statistics - January 2021 (<span style=\"color: red\">Revised</span>)</a></td><td nowrap=\"\"><a href=\"https://rbidocs.rbi.org.in/rdocs/ATM/DOCs/ATM2503202143D12E1C57FF44EB8E6C81785E14C1CE.XLSX\" target=\"_blank\"><img align=\"absmiddle\" border=\"0\" height=\"16\" src=\"../Images/xls.gif\" width=\"16\"/></a> 21 kb</td><td nowrap=\"\"><a href=\"https://rbidocs.rbi.org.in/rdocs/ATM/PDFs/ATM2503202143D12E1C57FF44EB8E6C81785E14C1CE.PDF\" target=\"_blank\"><img align=\"absmiddle\" border=\"0\" height=\"16\" src=\"../Images/pdf.gif\" width=\"16\"/></a> 180 kb</td></tr><tr><td class=\"tableheader\" colspan=\"8\"><b>December - 2020<b></b></b></td></tr><tr><td colspan=\"6\" style=\"word-wrap:break-word;width:450;\"><a class=\"link2\" href=\"ATMView.aspx?atmid=118\">Bank-wise ATM/POS/Card Statistics - December 2020 (<span style=\"color: red\">Revised</span>)</a></td><td nowrap=\"\"><a href=\"https://rbidocs.rbi.org.in/rdocs/ATM/DOCs/ATM1220208E8C93801C6D4F2399EF31C19A0805A9.XLSX\" target=\"_blank\"><img align=\"absmiddle\" border=\"0\" height=\"16\" src=\"../Images/xls.gif\" width=\"16\"/></a> 21 kb</td><td nowrap=\"\"><a href=\"https://rbidocs.rbi.org.in/rdocs/ATM/PDFs/ATM1220208E8C93801C6D4F2399EF31C19A0805A9.PDF\" target=\"_blank\"><img align=\"absmiddle\" border=\"0\" height=\"16\" src=\"../Images/pdf.gif\" width=\"16\"/></a> 161 kb</td></tr><tr><td class=\"tableheader\" colspan=\"8\"><b>November - 2020<b></b></b></td></tr><tr><td colspan=\"6\" style=\"word-wrap:break-word;width:450;\"><a class=\"link2\" href=\"ATMView.aspx?atmid=117\">Bank-wise ATM/POS/Card Statistics - November 2020 (<span style=\"color: red\">Revised</span>)</a></td><td nowrap=\"\"><a href=\"https://rbidocs.rbi.org.in/rdocs/ATM/DOCs/ATMD21E2C4053604DE4A438D39AA66A3DDA.XLSX\" target=\"_blank\"><img align=\"absmiddle\" border=\"0\" height=\"16\" src=\"../Images/xls.gif\" width=\"16\"/></a> 21 kb</td><td nowrap=\"\"><a href=\"https://rbidocs.rbi.org.in/rdocs/ATM/PDFs/ATMD21E2C4053604DE4A438D39AA66A3DDA.PDF\" target=\"_blank\"><img align=\"absmiddle\" border=\"0\" height=\"16\" src=\"../Images/pdf.gif\" width=\"16\"/></a> 184 kb</td></tr><tr><td class=\"tableheader\" colspan=\"8\"><b>October - 2020<b></b></b></td></tr><tr><td colspan=\"6\" style=\"word-wrap:break-word;width:450;\"><a class=\"link2\" href=\"ATMView.aspx?atmid=116\">Bank-wise ATM/POS/Card Statistics - October 2020 (<span style=\"color: red\">Revised</span>)</a></td><td nowrap=\"\"><a href=\"https://rbidocs.rbi.org.in/rdocs/ATM/DOCs/ATM10202006976A70426B498D9D8373A066CBC269.XLSX\" target=\"_blank\"><img align=\"absmiddle\" border=\"0\" height=\"16\" src=\"../Images/xls.gif\" width=\"16\"/></a> 21 kb</td><td nowrap=\"\"><a href=\"https://rbidocs.rbi.org.in/rdocs/ATM/PDFs/ATM10202006976A70426B498D9D8373A066CBC269.PDF\" target=\"_blank\"><img align=\"absmiddle\" border=\"0\" height=\"16\" src=\"../Images/pdf.gif\" width=\"16\"/></a> 210 kb</td></tr><tr><td class=\"tableheader\" colspan=\"8\"><b>September - 2020<b></b></b></td></tr><tr><td colspan=\"6\" style=\"word-wrap:break-word;width:450;\"><a class=\"link2\" href=\"ATMView.aspx?atmid=115\">Bank-wise ATM/POS/Card Statistics - September 2020 (<span style=\"color: red\">Revised</span>)</a></td><td nowrap=\"\"><a href=\"https://rbidocs.rbi.org.in/rdocs/ATM/DOCs/ATM092020D43BD86E62B5409BBCACFC27EC52E0CD.XLSX\" target=\"_blank\"><img align=\"absmiddle\" border=\"0\" height=\"16\" src=\"../Images/xls.gif\" width=\"16\"/></a> 21 kb</td><td nowrap=\"\"><a href=\"https://rbidocs.rbi.org.in/rdocs/ATM/PDFs/ATM092020D43BD86E62B5409BBCACFC27EC52E0CD.PDF\" target=\"_blank\"><img align=\"absmiddle\" border=\"0\" height=\"16\" src=\"../Images/pdf.gif\" width=\"16\"/></a> 209 kb</td></tr><tr><td class=\"tableheader\" colspan=\"8\"><b>August - 2020<b></b></b></td></tr><tr><td colspan=\"6\" style=\"word-wrap:break-word;width:450;\"><a class=\"link2\" href=\"ATMView.aspx?atmid=114\">Bank-wise ATM/POS/Card Statistics - August 2020 (<span style=\"color: red\">Revised</span>)</a></td><td nowrap=\"\"><a href=\"https://rbidocs.rbi.org.in/rdocs/ATM/DOCs/ATM082020D14FDA475ED44E70BB22F7C9EA15C9B0.XLSX\" target=\"_blank\"><img align=\"absmiddle\" border=\"0\" height=\"16\" src=\"../Images/xls.gif\" width=\"16\"/></a> 20 kb</td><td nowrap=\"\"><a href=\"https://rbidocs.rbi.org.in/rdocs/ATM/PDFs/ATM082020D14FDA475ED44E70BB22F7C9EA15C9B0.PDF\" target=\"_blank\"><img align=\"absmiddle\" border=\"0\" height=\"16\" src=\"../Images/pdf.gif\" width=\"16\"/></a> 212 kb</td></tr><tr><td class=\"tableheader\" colspan=\"8\"><b>July - 2020<b></b></b></td></tr><tr><td colspan=\"6\" style=\"word-wrap:break-word;width:450;\"><a class=\"link2\" href=\"ATMView.aspx?atmid=113\">Bank-wise ATM/POS/Card Statistics - July 2020 (<span style=\"color: red\">Revised</span>)</a></td><td nowrap=\"\"><a href=\"https://rbidocs.rbi.org.in/rdocs/ATM/DOCs/ATM21092020F0D9A41928544F359BFD55F7E938C4D2.XLSX\" target=\"_blank\"><img align=\"absmiddle\" border=\"0\" height=\"16\" src=\"../Images/xls.gif\" width=\"16\"/></a> 20 kb</td><td nowrap=\"\"><a href=\"https://rbidocs.rbi.org.in/rdocs/ATM/PDFs/ATM21092020F0D9A41928544F359BFD55F7E938C4D2.PDF\" target=\"_blank\"><img align=\"absmiddle\" border=\"0\" height=\"16\" src=\"../Images/pdf.gif\" width=\"16\"/></a> 184 kb</td></tr></table>\n",
              "</table>\n",
              "</div>"
            ]
          },
          "metadata": {
            "tags": []
          },
          "execution_count": 38
        }
      ]
    },
    {
      "cell_type": "code",
      "metadata": {
        "id": "G31tBywzrv8t"
      },
      "source": [
        "link_elements = table.find_all(\"a\", target = \"_blank\")"
      ],
      "execution_count": null,
      "outputs": []
    },
    {
      "cell_type": "code",
      "metadata": {
        "colab": {
          "base_uri": "https://localhost:8080/"
        },
        "id": "oglKYhGYstFh",
        "outputId": "989b5ea1-9ee6-4fc3-926b-c8aedbf035bf"
      },
      "source": [
        "link_elements"
      ],
      "execution_count": null,
      "outputs": [
        {
          "output_type": "execute_result",
          "data": {
            "text/plain": [
              "[<a href=\"https://rbidocs.rbi.org.in/rdocs/ATM/DOCs/ATM042021993978DBFB0444238E54236AF959B61E.XLSX\" target=\"_blank\"><img align=\"absmiddle\" border=\"0\" height=\"16\" src=\"../Images/xls.gif\" width=\"16\"/></a>,\n",
              " <a href=\"https://rbidocs.rbi.org.in/rdocs/ATM/PDFs/ATM042021993978DBFB0444238E54236AF959B61E.PDF\" target=\"_blank\"><img align=\"absmiddle\" border=\"0\" height=\"16\" src=\"../Images/pdf.gif\" width=\"16\"/></a>,\n",
              " <a href=\"https://rbidocs.rbi.org.in/rdocs/ATM/DOCs/ATM18052021_F4DEA491557B44E2385D6FD2F5CADDF6F.XLSX\" target=\"_blank\"><img align=\"absmiddle\" border=\"0\" height=\"16\" src=\"../Images/xls.gif\" width=\"16\"/></a>,\n",
              " <a href=\"https://rbidocs.rbi.org.in/rdocs/ATM/PDFs/ATM18052021_F4DEA491557B44E2385D6FD2F5CADDF6F.PDF\" target=\"_blank\"><img align=\"absmiddle\" border=\"0\" height=\"16\" src=\"../Images/pdf.gif\" width=\"16\"/></a>,\n",
              " <a href=\"https://rbidocs.rbi.org.in/rdocs/ATM/DOCs/ATM150420211082B589FD794427A7DC323DA2EEEC25.XLSX\" target=\"_blank\"><img align=\"absmiddle\" border=\"0\" height=\"16\" src=\"../Images/xls.gif\" width=\"16\"/></a>,\n",
              " <a href=\"https://rbidocs.rbi.org.in/rdocs/ATM/PDFs/ATM150420211082B589FD794427A7DC323DA2EEEC25.PDF\" target=\"_blank\"><img align=\"absmiddle\" border=\"0\" height=\"16\" src=\"../Images/pdf.gif\" width=\"16\"/></a>,\n",
              " <a href=\"https://rbidocs.rbi.org.in/rdocs/ATM/DOCs/ATM2503202143D12E1C57FF44EB8E6C81785E14C1CE.XLSX\" target=\"_blank\"><img align=\"absmiddle\" border=\"0\" height=\"16\" src=\"../Images/xls.gif\" width=\"16\"/></a>,\n",
              " <a href=\"https://rbidocs.rbi.org.in/rdocs/ATM/PDFs/ATM2503202143D12E1C57FF44EB8E6C81785E14C1CE.PDF\" target=\"_blank\"><img align=\"absmiddle\" border=\"0\" height=\"16\" src=\"../Images/pdf.gif\" width=\"16\"/></a>,\n",
              " <a href=\"https://rbidocs.rbi.org.in/rdocs/ATM/DOCs/ATM1220208E8C93801C6D4F2399EF31C19A0805A9.XLSX\" target=\"_blank\"><img align=\"absmiddle\" border=\"0\" height=\"16\" src=\"../Images/xls.gif\" width=\"16\"/></a>,\n",
              " <a href=\"https://rbidocs.rbi.org.in/rdocs/ATM/PDFs/ATM1220208E8C93801C6D4F2399EF31C19A0805A9.PDF\" target=\"_blank\"><img align=\"absmiddle\" border=\"0\" height=\"16\" src=\"../Images/pdf.gif\" width=\"16\"/></a>,\n",
              " <a href=\"https://rbidocs.rbi.org.in/rdocs/ATM/DOCs/ATMD21E2C4053604DE4A438D39AA66A3DDA.XLSX\" target=\"_blank\"><img align=\"absmiddle\" border=\"0\" height=\"16\" src=\"../Images/xls.gif\" width=\"16\"/></a>,\n",
              " <a href=\"https://rbidocs.rbi.org.in/rdocs/ATM/PDFs/ATMD21E2C4053604DE4A438D39AA66A3DDA.PDF\" target=\"_blank\"><img align=\"absmiddle\" border=\"0\" height=\"16\" src=\"../Images/pdf.gif\" width=\"16\"/></a>,\n",
              " <a href=\"https://rbidocs.rbi.org.in/rdocs/ATM/DOCs/ATM10202006976A70426B498D9D8373A066CBC269.XLSX\" target=\"_blank\"><img align=\"absmiddle\" border=\"0\" height=\"16\" src=\"../Images/xls.gif\" width=\"16\"/></a>,\n",
              " <a href=\"https://rbidocs.rbi.org.in/rdocs/ATM/PDFs/ATM10202006976A70426B498D9D8373A066CBC269.PDF\" target=\"_blank\"><img align=\"absmiddle\" border=\"0\" height=\"16\" src=\"../Images/pdf.gif\" width=\"16\"/></a>,\n",
              " <a href=\"https://rbidocs.rbi.org.in/rdocs/ATM/DOCs/ATM092020D43BD86E62B5409BBCACFC27EC52E0CD.XLSX\" target=\"_blank\"><img align=\"absmiddle\" border=\"0\" height=\"16\" src=\"../Images/xls.gif\" width=\"16\"/></a>,\n",
              " <a href=\"https://rbidocs.rbi.org.in/rdocs/ATM/PDFs/ATM092020D43BD86E62B5409BBCACFC27EC52E0CD.PDF\" target=\"_blank\"><img align=\"absmiddle\" border=\"0\" height=\"16\" src=\"../Images/pdf.gif\" width=\"16\"/></a>,\n",
              " <a href=\"https://rbidocs.rbi.org.in/rdocs/ATM/DOCs/ATM082020D14FDA475ED44E70BB22F7C9EA15C9B0.XLSX\" target=\"_blank\"><img align=\"absmiddle\" border=\"0\" height=\"16\" src=\"../Images/xls.gif\" width=\"16\"/></a>,\n",
              " <a href=\"https://rbidocs.rbi.org.in/rdocs/ATM/PDFs/ATM082020D14FDA475ED44E70BB22F7C9EA15C9B0.PDF\" target=\"_blank\"><img align=\"absmiddle\" border=\"0\" height=\"16\" src=\"../Images/pdf.gif\" width=\"16\"/></a>,\n",
              " <a href=\"https://rbidocs.rbi.org.in/rdocs/ATM/DOCs/ATM21092020F0D9A41928544F359BFD55F7E938C4D2.XLSX\" target=\"_blank\"><img align=\"absmiddle\" border=\"0\" height=\"16\" src=\"../Images/xls.gif\" width=\"16\"/></a>,\n",
              " <a href=\"https://rbidocs.rbi.org.in/rdocs/ATM/PDFs/ATM21092020F0D9A41928544F359BFD55F7E938C4D2.PDF\" target=\"_blank\"><img align=\"absmiddle\" border=\"0\" height=\"16\" src=\"../Images/pdf.gif\" width=\"16\"/></a>]"
            ]
          },
          "metadata": {
            "tags": []
          },
          "execution_count": 40
        }
      ]
    },
    {
      "cell_type": "markdown",
      "metadata": {
        "id": "M9sqAvSqZEz-"
      },
      "source": [
        "Code for copying the top 2 urls which contains data of current and previous month"
      ]
    },
    {
      "cell_type": "code",
      "metadata": {
        "id": "hbSEFXXqt-WE"
      },
      "source": [
        ""
      ],
      "execution_count": null,
      "outputs": []
    },
    {
      "cell_type": "code",
      "metadata": {
        "id": "UixBsYfjuVOX"
      },
      "source": [
        "link_url = link_elements[0][\"href\"]\n",
        "link_url\n",
        "link_url2 = link_elements[2][\"href\"]"
      ],
      "execution_count": null,
      "outputs": []
    },
    {
      "cell_type": "code",
      "metadata": {
        "colab": {
          "base_uri": "https://localhost:8080/",
          "height": 35
        },
        "id": "UJZ-fEzLvVeg",
        "outputId": "39255d06-9e49-418f-a34d-adb54c7d9a99"
      },
      "source": [
        "link_url2"
      ],
      "execution_count": null,
      "outputs": [
        {
          "output_type": "execute_result",
          "data": {
            "application/vnd.google.colaboratory.intrinsic+json": {
              "type": "string"
            },
            "text/plain": [
              "'https://rbidocs.rbi.org.in/rdocs/ATM/DOCs/ATM18052021_F4DEA491557B44E2385D6FD2F5CADDF6F.XLSX'"
            ]
          },
          "metadata": {
            "tags": []
          },
          "execution_count": 42
        }
      ]
    },
    {
      "cell_type": "code",
      "metadata": {
        "id": "PuQLZl_o6IOb"
      },
      "source": [
        "import pandas as MyPandas\n",
        "df = MyPandas.read_excel (link_url)\n",
        "df1 = MyPandas.read_excel (link_url2)"
      ],
      "execution_count": null,
      "outputs": []
    },
    {
      "cell_type": "code",
      "metadata": {
        "colab": {
          "base_uri": "https://localhost:8080/",
          "height": 877
        },
        "id": "8Xe64hM4BuWN",
        "outputId": "3652cbb7-f0dd-4b41-ada0-9191abd19ed8"
      },
      "source": [
        "df1\n"
      ],
      "execution_count": null,
      "outputs": [
        {
          "output_type": "execute_result",
          "data": {
            "text/html": [
              "<div>\n",
              "<style scoped>\n",
              "    .dataframe tbody tr th:only-of-type {\n",
              "        vertical-align: middle;\n",
              "    }\n",
              "\n",
              "    .dataframe tbody tr th {\n",
              "        vertical-align: top;\n",
              "    }\n",
              "\n",
              "    .dataframe thead th {\n",
              "        text-align: right;\n",
              "    }\n",
              "</style>\n",
              "<table border=\"1\" class=\"dataframe\">\n",
              "  <thead>\n",
              "    <tr style=\"text-align: right;\">\n",
              "      <th></th>\n",
              "      <th>Unnamed: 0</th>\n",
              "      <th>Unnamed: 1</th>\n",
              "      <th>Unnamed: 2</th>\n",
              "      <th>Unnamed: 3</th>\n",
              "      <th>Unnamed: 4</th>\n",
              "      <th>Unnamed: 5</th>\n",
              "      <th>Unnamed: 6</th>\n",
              "      <th>Unnamed: 7</th>\n",
              "      <th>Unnamed: 8</th>\n",
              "      <th>Unnamed: 9</th>\n",
              "      <th>Unnamed: 10</th>\n",
              "      <th>Unnamed: 11</th>\n",
              "      <th>Unnamed: 12</th>\n",
              "      <th>Unnamed: 13</th>\n",
              "      <th>Unnamed: 14</th>\n",
              "      <th>Unnamed: 15</th>\n",
              "      <th>Unnamed: 16</th>\n",
              "      <th>Unnamed: 17</th>\n",
              "    </tr>\n",
              "  </thead>\n",
              "  <tbody>\n",
              "    <tr>\n",
              "      <th>0</th>\n",
              "      <td>NaN</td>\n",
              "      <td>ATM, Acceptance Infrastructure and Card Statis...</td>\n",
              "      <td>NaN</td>\n",
              "      <td>NaN</td>\n",
              "      <td>NaN</td>\n",
              "      <td>NaN</td>\n",
              "      <td>NaN</td>\n",
              "      <td>NaN</td>\n",
              "      <td>NaN</td>\n",
              "      <td>NaN</td>\n",
              "      <td>NaN</td>\n",
              "      <td>NaN</td>\n",
              "      <td>NaN</td>\n",
              "      <td>NaN</td>\n",
              "      <td>NaN</td>\n",
              "      <td>NaN</td>\n",
              "      <td>NaN</td>\n",
              "      <td>NaN</td>\n",
              "    </tr>\n",
              "    <tr>\n",
              "      <th>1</th>\n",
              "      <td>NaN</td>\n",
              "      <td>Bank Name</td>\n",
              "      <td>ATMs</td>\n",
              "      <td>NaN</td>\n",
              "      <td>PoS</td>\n",
              "      <td>NaN</td>\n",
              "      <td>Micro ATMs</td>\n",
              "      <td>Bharat QR</td>\n",
              "      <td>Credit Cards</td>\n",
              "      <td>NaN</td>\n",
              "      <td>NaN</td>\n",
              "      <td>NaN</td>\n",
              "      <td>NaN</td>\n",
              "      <td>Debit Cards</td>\n",
              "      <td>NaN</td>\n",
              "      <td>NaN</td>\n",
              "      <td>NaN</td>\n",
              "      <td>NaN</td>\n",
              "    </tr>\n",
              "    <tr>\n",
              "      <th>2</th>\n",
              "      <td>NaN</td>\n",
              "      <td>NaN</td>\n",
              "      <td>On-site</td>\n",
              "      <td>Off-site</td>\n",
              "      <td>On-line</td>\n",
              "      <td>Off-line</td>\n",
              "      <td>NaN</td>\n",
              "      <td>NaN</td>\n",
              "      <td>No. of outstanding cards as at the end of the ...</td>\n",
              "      <td>No. of Transactions (Actuals)</td>\n",
              "      <td>NaN</td>\n",
              "      <td>Value of transactions\\n(Rupees Lakh)</td>\n",
              "      <td>NaN</td>\n",
              "      <td>No. of outstanding cards as at the end of the ...</td>\n",
              "      <td>No. of Transactions\\n(Actuals)</td>\n",
              "      <td>NaN</td>\n",
              "      <td>Value of transactions\\n(Rupees Lakh)</td>\n",
              "      <td>NaN</td>\n",
              "    </tr>\n",
              "    <tr>\n",
              "      <th>3</th>\n",
              "      <td>NaN</td>\n",
              "      <td>NaN</td>\n",
              "      <td>NaN</td>\n",
              "      <td>NaN</td>\n",
              "      <td>NaN</td>\n",
              "      <td>NaN</td>\n",
              "      <td>NaN</td>\n",
              "      <td>NaN</td>\n",
              "      <td>NaN</td>\n",
              "      <td>ATM</td>\n",
              "      <td>PoS</td>\n",
              "      <td>ATM</td>\n",
              "      <td>PoS</td>\n",
              "      <td>NaN</td>\n",
              "      <td>ATM</td>\n",
              "      <td>PoS</td>\n",
              "      <td>ATM</td>\n",
              "      <td>PoS</td>\n",
              "    </tr>\n",
              "    <tr>\n",
              "      <th>4</th>\n",
              "      <td>NaN</td>\n",
              "      <td>NaN</td>\n",
              "      <td>1</td>\n",
              "      <td>2</td>\n",
              "      <td>3</td>\n",
              "      <td>4</td>\n",
              "      <td>5</td>\n",
              "      <td>6</td>\n",
              "      <td>7</td>\n",
              "      <td>8</td>\n",
              "      <td>9</td>\n",
              "      <td>10</td>\n",
              "      <td>11</td>\n",
              "      <td>12</td>\n",
              "      <td>13</td>\n",
              "      <td>14</td>\n",
              "      <td>15</td>\n",
              "      <td>16</td>\n",
              "    </tr>\n",
              "    <tr>\n",
              "      <th>...</th>\n",
              "      <td>...</td>\n",
              "      <td>...</td>\n",
              "      <td>...</td>\n",
              "      <td>...</td>\n",
              "      <td>...</td>\n",
              "      <td>...</td>\n",
              "      <td>...</td>\n",
              "      <td>...</td>\n",
              "      <td>...</td>\n",
              "      <td>...</td>\n",
              "      <td>...</td>\n",
              "      <td>...</td>\n",
              "      <td>...</td>\n",
              "      <td>...</td>\n",
              "      <td>...</td>\n",
              "      <td>...</td>\n",
              "      <td>...</td>\n",
              "      <td>...</td>\n",
              "    </tr>\n",
              "    <tr>\n",
              "      <th>82</th>\n",
              "      <td>12</td>\n",
              "      <td>Total number of debit cards issued outstanding...</td>\n",
              "      <td>NaN</td>\n",
              "      <td>NaN</td>\n",
              "      <td>NaN</td>\n",
              "      <td>NaN</td>\n",
              "      <td>NaN</td>\n",
              "      <td>NaN</td>\n",
              "      <td>NaN</td>\n",
              "      <td>NaN</td>\n",
              "      <td>NaN</td>\n",
              "      <td>NaN</td>\n",
              "      <td>NaN</td>\n",
              "      <td>NaN</td>\n",
              "      <td>NaN</td>\n",
              "      <td>NaN</td>\n",
              "      <td>NaN</td>\n",
              "      <td>NaN</td>\n",
              "    </tr>\n",
              "    <tr>\n",
              "      <th>83</th>\n",
              "      <td>13</td>\n",
              "      <td>Total number of financial transactions done by...</td>\n",
              "      <td>NaN</td>\n",
              "      <td>NaN</td>\n",
              "      <td>NaN</td>\n",
              "      <td>NaN</td>\n",
              "      <td>NaN</td>\n",
              "      <td>NaN</td>\n",
              "      <td>NaN</td>\n",
              "      <td>NaN</td>\n",
              "      <td>NaN</td>\n",
              "      <td>NaN</td>\n",
              "      <td>NaN</td>\n",
              "      <td>NaN</td>\n",
              "      <td>NaN</td>\n",
              "      <td>NaN</td>\n",
              "      <td>NaN</td>\n",
              "      <td>NaN</td>\n",
              "    </tr>\n",
              "    <tr>\n",
              "      <th>84</th>\n",
              "      <td>14</td>\n",
              "      <td>Total number of financial transactions done by...</td>\n",
              "      <td>NaN</td>\n",
              "      <td>NaN</td>\n",
              "      <td>NaN</td>\n",
              "      <td>NaN</td>\n",
              "      <td>NaN</td>\n",
              "      <td>NaN</td>\n",
              "      <td>NaN</td>\n",
              "      <td>NaN</td>\n",
              "      <td>NaN</td>\n",
              "      <td>NaN</td>\n",
              "      <td>NaN</td>\n",
              "      <td>NaN</td>\n",
              "      <td>NaN</td>\n",
              "      <td>NaN</td>\n",
              "      <td>NaN</td>\n",
              "      <td>NaN</td>\n",
              "    </tr>\n",
              "    <tr>\n",
              "      <th>85</th>\n",
              "      <td>15</td>\n",
              "      <td>Total value of financial transactions done by ...</td>\n",
              "      <td>NaN</td>\n",
              "      <td>NaN</td>\n",
              "      <td>NaN</td>\n",
              "      <td>NaN</td>\n",
              "      <td>NaN</td>\n",
              "      <td>NaN</td>\n",
              "      <td>NaN</td>\n",
              "      <td>NaN</td>\n",
              "      <td>NaN</td>\n",
              "      <td>NaN</td>\n",
              "      <td>NaN</td>\n",
              "      <td>NaN</td>\n",
              "      <td>NaN</td>\n",
              "      <td>NaN</td>\n",
              "      <td>NaN</td>\n",
              "      <td>NaN</td>\n",
              "    </tr>\n",
              "    <tr>\n",
              "      <th>86</th>\n",
              "      <td>16</td>\n",
              "      <td>Total value of financial transactions done by ...</td>\n",
              "      <td>NaN</td>\n",
              "      <td>NaN</td>\n",
              "      <td>NaN</td>\n",
              "      <td>NaN</td>\n",
              "      <td>NaN</td>\n",
              "      <td>NaN</td>\n",
              "      <td>NaN</td>\n",
              "      <td>NaN</td>\n",
              "      <td>NaN</td>\n",
              "      <td>NaN</td>\n",
              "      <td>NaN</td>\n",
              "      <td>NaN</td>\n",
              "      <td>NaN</td>\n",
              "      <td>NaN</td>\n",
              "      <td>NaN</td>\n",
              "      <td>NaN</td>\n",
              "    </tr>\n",
              "  </tbody>\n",
              "</table>\n",
              "<p>87 rows × 18 columns</p>\n",
              "</div>"
            ],
            "text/plain": [
              "   Unnamed: 0  ... Unnamed: 17\n",
              "0         NaN  ...         NaN\n",
              "1         NaN  ...         NaN\n",
              "2         NaN  ...         NaN\n",
              "3         NaN  ...         PoS\n",
              "4         NaN  ...          16\n",
              "..        ...  ...         ...\n",
              "82         12  ...         NaN\n",
              "83         13  ...         NaN\n",
              "84         14  ...         NaN\n",
              "85         15  ...         NaN\n",
              "86         16  ...         NaN\n",
              "\n",
              "[87 rows x 18 columns]"
            ]
          },
          "metadata": {
            "tags": []
          },
          "execution_count": 44
        }
      ]
    },
    {
      "cell_type": "code",
      "metadata": {
        "colab": {
          "base_uri": "https://localhost:8080/"
        },
        "id": "Gze9X6ic6IQ0",
        "outputId": "64d11ebb-66a2-4acf-843e-4af13a29c7db"
      },
      "source": [
        "df1.columns"
      ],
      "execution_count": null,
      "outputs": [
        {
          "output_type": "execute_result",
          "data": {
            "text/plain": [
              "Index(['Unnamed: 0', 'Unnamed: 1', 'Unnamed: 2', 'Unnamed: 3', 'Unnamed: 4',\n",
              "       'Unnamed: 5', 'Unnamed: 6', 'Unnamed: 7', 'Unnamed: 8', 'Unnamed: 9',\n",
              "       'Unnamed: 10', 'Unnamed: 11', 'Unnamed: 12', 'Unnamed: 13',\n",
              "       'Unnamed: 14', 'Unnamed: 15', 'Unnamed: 16', 'Unnamed: 17'],\n",
              "      dtype='object')"
            ]
          },
          "metadata": {
            "tags": []
          },
          "execution_count": 45
        }
      ]
    },
    {
      "cell_type": "code",
      "metadata": {
        "id": "wm7TsG15BUXv"
      },
      "source": [
        "outstanding_cards_prev = df1['Unnamed: 8'][69] "
      ],
      "execution_count": null,
      "outputs": []
    },
    {
      "cell_type": "code",
      "metadata": {
        "id": "pQ3u89dLEiYX"
      },
      "source": [
        "atm_prev = df1['Unnamed: 9'][69]"
      ],
      "execution_count": null,
      "outputs": []
    },
    {
      "cell_type": "code",
      "metadata": {
        "id": "yU00_7HfE91r"
      },
      "source": [
        "pos_prev = df1['Unnamed: 10'][69]"
      ],
      "execution_count": null,
      "outputs": []
    },
    {
      "cell_type": "code",
      "metadata": {
        "id": "R8DaO7AP-KiY"
      },
      "source": [
        "transaction_prev = atm_prev + pos_prev"
      ],
      "execution_count": null,
      "outputs": []
    },
    {
      "cell_type": "code",
      "metadata": {
        "id": "3grpdz6REdkO"
      },
      "source": [
        "outstanding_cards_current = df['Unnamed: 8'][69]"
      ],
      "execution_count": null,
      "outputs": []
    },
    {
      "cell_type": "code",
      "metadata": {
        "id": "wmg7lrsp6IUa"
      },
      "source": [
        "atm_current = df['Unnamed: 9'][69]"
      ],
      "execution_count": null,
      "outputs": []
    },
    {
      "cell_type": "code",
      "metadata": {
        "id": "rLMZV1Xpxm43"
      },
      "source": [
        "pos_current = df['Unnamed: 10'][69]"
      ],
      "execution_count": null,
      "outputs": []
    },
    {
      "cell_type": "code",
      "metadata": {
        "id": "MJuahnb-zb6H"
      },
      "source": [
        "transaction_current = atm_current + pos_current"
      ],
      "execution_count": null,
      "outputs": []
    },
    {
      "cell_type": "code",
      "metadata": {
        "id": "u8tX0xRRzkQu"
      },
      "source": [
        ""
      ],
      "execution_count": null,
      "outputs": []
    },
    {
      "cell_type": "code",
      "metadata": {
        "colab": {
          "base_uri": "https://localhost:8080/"
        },
        "id": "lzN5EW-tzkkV",
        "outputId": "1b7dafcc-a9b7-4f73-d0b4-ce506bd71999"
      },
      "source": [
        "api.update_status(status =\"Total Number of transactions outstanding in the current month and previous month are \"+str(transaction_current)+\" and \"+ str(transaction_prev)+\" respectively\")"
      ],
      "execution_count": null,
      "outputs": [
        {
          "output_type": "execute_result",
          "data": {
            "text/plain": [
              "Status(_api=<tweepy.api.API object at 0x7f12f51bb790>, _json={'created_at': 'Mon Jul 05 14:44:20 +0000 2021', 'id': 1412059775874048004, 'id_str': '1412059775874048004', 'text': 'Total Number of transactions outstanding in the current month and previous month are 158580021 and 189752197 respectively', 'truncated': False, 'entities': {'hashtags': [], 'symbols': [], 'user_mentions': [], 'urls': []}, 'source': '<a href=\"https://help.twitter.com/en/using-twitter/how-to-tweet#source-labels\" rel=\"nofollow\">CredaPP1</a>', 'in_reply_to_status_id': None, 'in_reply_to_status_id_str': None, 'in_reply_to_user_id': None, 'in_reply_to_user_id_str': None, 'in_reply_to_screen_name': None, 'user': {'id': 1410950779913990144, 'id_str': '1410950779913990144', 'name': 'Akhila Krishna K', 'screen_name': 'AkhilaKrishnaK6', 'location': '', 'description': 'IIT BOMBAY EE', 'url': None, 'entities': {'description': {'urls': []}}, 'protected': False, 'followers_count': 0, 'friends_count': 6, 'listed_count': 0, 'created_at': 'Fri Jul 02 13:19:52 +0000 2021', 'favourites_count': 0, 'utc_offset': None, 'time_zone': None, 'geo_enabled': False, 'verified': False, 'statuses_count': 1, 'lang': None, 'contributors_enabled': False, 'is_translator': False, 'is_translation_enabled': False, 'profile_background_color': 'F5F8FA', 'profile_background_image_url': None, 'profile_background_image_url_https': None, 'profile_background_tile': False, 'profile_image_url': 'http://abs.twimg.com/sticky/default_profile_images/default_profile_normal.png', 'profile_image_url_https': 'https://abs.twimg.com/sticky/default_profile_images/default_profile_normal.png', 'profile_link_color': '1DA1F2', 'profile_sidebar_border_color': 'C0DEED', 'profile_sidebar_fill_color': 'DDEEF6', 'profile_text_color': '333333', 'profile_use_background_image': True, 'has_extended_profile': True, 'default_profile': True, 'default_profile_image': True, 'following': False, 'follow_request_sent': False, 'notifications': False, 'translator_type': 'none', 'withheld_in_countries': []}, 'geo': None, 'coordinates': None, 'place': None, 'contributors': None, 'is_quote_status': False, 'retweet_count': 0, 'favorite_count': 0, 'favorited': False, 'retweeted': False, 'lang': 'en'}, created_at=datetime.datetime(2021, 7, 5, 14, 44, 20), id=1412059775874048004, id_str='1412059775874048004', text='Total Number of transactions outstanding in the current month and previous month are 158580021 and 189752197 respectively', truncated=False, entities={'hashtags': [], 'symbols': [], 'user_mentions': [], 'urls': []}, source='CredaPP1', source_url='https://help.twitter.com/en/using-twitter/how-to-tweet#source-labels', in_reply_to_status_id=None, in_reply_to_status_id_str=None, in_reply_to_user_id=None, in_reply_to_user_id_str=None, in_reply_to_screen_name=None, author=User(_api=<tweepy.api.API object at 0x7f12f51bb790>, _json={'id': 1410950779913990144, 'id_str': '1410950779913990144', 'name': 'Akhila Krishna K', 'screen_name': 'AkhilaKrishnaK6', 'location': '', 'description': 'IIT BOMBAY EE', 'url': None, 'entities': {'description': {'urls': []}}, 'protected': False, 'followers_count': 0, 'friends_count': 6, 'listed_count': 0, 'created_at': 'Fri Jul 02 13:19:52 +0000 2021', 'favourites_count': 0, 'utc_offset': None, 'time_zone': None, 'geo_enabled': False, 'verified': False, 'statuses_count': 1, 'lang': None, 'contributors_enabled': False, 'is_translator': False, 'is_translation_enabled': False, 'profile_background_color': 'F5F8FA', 'profile_background_image_url': None, 'profile_background_image_url_https': None, 'profile_background_tile': False, 'profile_image_url': 'http://abs.twimg.com/sticky/default_profile_images/default_profile_normal.png', 'profile_image_url_https': 'https://abs.twimg.com/sticky/default_profile_images/default_profile_normal.png', 'profile_link_color': '1DA1F2', 'profile_sidebar_border_color': 'C0DEED', 'profile_sidebar_fill_color': 'DDEEF6', 'profile_text_color': '333333', 'profile_use_background_image': True, 'has_extended_profile': True, 'default_profile': True, 'default_profile_image': True, 'following': False, 'follow_request_sent': False, 'notifications': False, 'translator_type': 'none', 'withheld_in_countries': []}, id=1410950779913990144, id_str='1410950779913990144', name='Akhila Krishna K', screen_name='AkhilaKrishnaK6', location='', description='IIT BOMBAY EE', url=None, entities={'description': {'urls': []}}, protected=False, followers_count=0, friends_count=6, listed_count=0, created_at=datetime.datetime(2021, 7, 2, 13, 19, 52), favourites_count=0, utc_offset=None, time_zone=None, geo_enabled=False, verified=False, statuses_count=1, lang=None, contributors_enabled=False, is_translator=False, is_translation_enabled=False, profile_background_color='F5F8FA', profile_background_image_url=None, profile_background_image_url_https=None, profile_background_tile=False, profile_image_url='http://abs.twimg.com/sticky/default_profile_images/default_profile_normal.png', profile_image_url_https='https://abs.twimg.com/sticky/default_profile_images/default_profile_normal.png', profile_link_color='1DA1F2', profile_sidebar_border_color='C0DEED', profile_sidebar_fill_color='DDEEF6', profile_text_color='333333', profile_use_background_image=True, has_extended_profile=True, default_profile=True, default_profile_image=True, following=False, follow_request_sent=False, notifications=False, translator_type='none', withheld_in_countries=[]), user=User(_api=<tweepy.api.API object at 0x7f12f51bb790>, _json={'id': 1410950779913990144, 'id_str': '1410950779913990144', 'name': 'Akhila Krishna K', 'screen_name': 'AkhilaKrishnaK6', 'location': '', 'description': 'IIT BOMBAY EE', 'url': None, 'entities': {'description': {'urls': []}}, 'protected': False, 'followers_count': 0, 'friends_count': 6, 'listed_count': 0, 'created_at': 'Fri Jul 02 13:19:52 +0000 2021', 'favourites_count': 0, 'utc_offset': None, 'time_zone': None, 'geo_enabled': False, 'verified': False, 'statuses_count': 1, 'lang': None, 'contributors_enabled': False, 'is_translator': False, 'is_translation_enabled': False, 'profile_background_color': 'F5F8FA', 'profile_background_image_url': None, 'profile_background_image_url_https': None, 'profile_background_tile': False, 'profile_image_url': 'http://abs.twimg.com/sticky/default_profile_images/default_profile_normal.png', 'profile_image_url_https': 'https://abs.twimg.com/sticky/default_profile_images/default_profile_normal.png', 'profile_link_color': '1DA1F2', 'profile_sidebar_border_color': 'C0DEED', 'profile_sidebar_fill_color': 'DDEEF6', 'profile_text_color': '333333', 'profile_use_background_image': True, 'has_extended_profile': True, 'default_profile': True, 'default_profile_image': True, 'following': False, 'follow_request_sent': False, 'notifications': False, 'translator_type': 'none', 'withheld_in_countries': []}, id=1410950779913990144, id_str='1410950779913990144', name='Akhila Krishna K', screen_name='AkhilaKrishnaK6', location='', description='IIT BOMBAY EE', url=None, entities={'description': {'urls': []}}, protected=False, followers_count=0, friends_count=6, listed_count=0, created_at=datetime.datetime(2021, 7, 2, 13, 19, 52), favourites_count=0, utc_offset=None, time_zone=None, geo_enabled=False, verified=False, statuses_count=1, lang=None, contributors_enabled=False, is_translator=False, is_translation_enabled=False, profile_background_color='F5F8FA', profile_background_image_url=None, profile_background_image_url_https=None, profile_background_tile=False, profile_image_url='http://abs.twimg.com/sticky/default_profile_images/default_profile_normal.png', profile_image_url_https='https://abs.twimg.com/sticky/default_profile_images/default_profile_normal.png', profile_link_color='1DA1F2', profile_sidebar_border_color='C0DEED', profile_sidebar_fill_color='DDEEF6', profile_text_color='333333', profile_use_background_image=True, has_extended_profile=True, default_profile=True, default_profile_image=True, following=False, follow_request_sent=False, notifications=False, translator_type='none', withheld_in_countries=[]), geo=None, coordinates=None, place=None, contributors=None, is_quote_status=False, retweet_count=0, favorite_count=0, favorited=False, retweeted=False, lang='en')"
            ]
          },
          "metadata": {
            "tags": []
          },
          "execution_count": 63
        }
      ]
    },
    {
      "cell_type": "code",
      "metadata": {
        "colab": {
          "base_uri": "https://localhost:8080/"
        },
        "id": "s-QT87-1whPC",
        "outputId": "d7143081-72e1-43fa-e55a-335defef5c7a"
      },
      "source": [
        "api.update_status(status = \"Total Number of cards outstanding in the current month and previous month are \"+str(outstanding_cards_current)+\" and \"+ str(outstanding_cards_prev)+\" respectively\")"
      ],
      "execution_count": null,
      "outputs": [
        {
          "output_type": "execute_result",
          "data": {
            "text/plain": [
              "Status(_api=<tweepy.api.API object at 0x7f9bdb06f1d0>, _json={'created_at': 'Sat Jul 03 17:17:28 +0000 2021', 'id': 1411373538066501638, 'id_str': '1411373538066501638', 'text': 'Total Number of cards outstanding in the current month and previous month are 62260420 and 62049087 respectively', 'truncated': False, 'entities': {'hashtags': [], 'symbols': [], 'user_mentions': [], 'urls': []}, 'source': '<a href=\"https://help.twitter.com/en/using-twitter/how-to-tweet#source-labels\" rel=\"nofollow\">CredaPP1</a>', 'in_reply_to_status_id': None, 'in_reply_to_status_id_str': None, 'in_reply_to_user_id': None, 'in_reply_to_user_id_str': None, 'in_reply_to_screen_name': None, 'user': {'id': 1410950779913990144, 'id_str': '1410950779913990144', 'name': 'Akhila Krishna K', 'screen_name': 'AkhilaKrishnaK6', 'location': '', 'description': 'IIT BOMBAY EE', 'url': None, 'entities': {'description': {'urls': []}}, 'protected': False, 'followers_count': 0, 'friends_count': 0, 'listed_count': 0, 'created_at': 'Fri Jul 02 13:19:52 +0000 2021', 'favourites_count': 0, 'utc_offset': None, 'time_zone': None, 'geo_enabled': False, 'verified': False, 'statuses_count': 1, 'lang': None, 'contributors_enabled': False, 'is_translator': False, 'is_translation_enabled': False, 'profile_background_color': 'F5F8FA', 'profile_background_image_url': None, 'profile_background_image_url_https': None, 'profile_background_tile': False, 'profile_image_url': 'http://abs.twimg.com/sticky/default_profile_images/default_profile_normal.png', 'profile_image_url_https': 'https://abs.twimg.com/sticky/default_profile_images/default_profile_normal.png', 'profile_link_color': '1DA1F2', 'profile_sidebar_border_color': 'C0DEED', 'profile_sidebar_fill_color': 'DDEEF6', 'profile_text_color': '333333', 'profile_use_background_image': True, 'has_extended_profile': True, 'default_profile': True, 'default_profile_image': True, 'following': False, 'follow_request_sent': False, 'notifications': False, 'translator_type': 'none', 'withheld_in_countries': []}, 'geo': None, 'coordinates': None, 'place': None, 'contributors': None, 'is_quote_status': False, 'retweet_count': 0, 'favorite_count': 0, 'favorited': False, 'retweeted': False, 'lang': 'en'}, created_at=datetime.datetime(2021, 7, 3, 17, 17, 28), id=1411373538066501638, id_str='1411373538066501638', text='Total Number of cards outstanding in the current month and previous month are 62260420 and 62049087 respectively', truncated=False, entities={'hashtags': [], 'symbols': [], 'user_mentions': [], 'urls': []}, source='CredaPP1', source_url='https://help.twitter.com/en/using-twitter/how-to-tweet#source-labels', in_reply_to_status_id=None, in_reply_to_status_id_str=None, in_reply_to_user_id=None, in_reply_to_user_id_str=None, in_reply_to_screen_name=None, author=User(_api=<tweepy.api.API object at 0x7f9bdb06f1d0>, _json={'id': 1410950779913990144, 'id_str': '1410950779913990144', 'name': 'Akhila Krishna K', 'screen_name': 'AkhilaKrishnaK6', 'location': '', 'description': 'IIT BOMBAY EE', 'url': None, 'entities': {'description': {'urls': []}}, 'protected': False, 'followers_count': 0, 'friends_count': 0, 'listed_count': 0, 'created_at': 'Fri Jul 02 13:19:52 +0000 2021', 'favourites_count': 0, 'utc_offset': None, 'time_zone': None, 'geo_enabled': False, 'verified': False, 'statuses_count': 1, 'lang': None, 'contributors_enabled': False, 'is_translator': False, 'is_translation_enabled': False, 'profile_background_color': 'F5F8FA', 'profile_background_image_url': None, 'profile_background_image_url_https': None, 'profile_background_tile': False, 'profile_image_url': 'http://abs.twimg.com/sticky/default_profile_images/default_profile_normal.png', 'profile_image_url_https': 'https://abs.twimg.com/sticky/default_profile_images/default_profile_normal.png', 'profile_link_color': '1DA1F2', 'profile_sidebar_border_color': 'C0DEED', 'profile_sidebar_fill_color': 'DDEEF6', 'profile_text_color': '333333', 'profile_use_background_image': True, 'has_extended_profile': True, 'default_profile': True, 'default_profile_image': True, 'following': False, 'follow_request_sent': False, 'notifications': False, 'translator_type': 'none', 'withheld_in_countries': []}, id=1410950779913990144, id_str='1410950779913990144', name='Akhila Krishna K', screen_name='AkhilaKrishnaK6', location='', description='IIT BOMBAY EE', url=None, entities={'description': {'urls': []}}, protected=False, followers_count=0, friends_count=0, listed_count=0, created_at=datetime.datetime(2021, 7, 2, 13, 19, 52), favourites_count=0, utc_offset=None, time_zone=None, geo_enabled=False, verified=False, statuses_count=1, lang=None, contributors_enabled=False, is_translator=False, is_translation_enabled=False, profile_background_color='F5F8FA', profile_background_image_url=None, profile_background_image_url_https=None, profile_background_tile=False, profile_image_url='http://abs.twimg.com/sticky/default_profile_images/default_profile_normal.png', profile_image_url_https='https://abs.twimg.com/sticky/default_profile_images/default_profile_normal.png', profile_link_color='1DA1F2', profile_sidebar_border_color='C0DEED', profile_sidebar_fill_color='DDEEF6', profile_text_color='333333', profile_use_background_image=True, has_extended_profile=True, default_profile=True, default_profile_image=True, following=False, follow_request_sent=False, notifications=False, translator_type='none', withheld_in_countries=[]), user=User(_api=<tweepy.api.API object at 0x7f9bdb06f1d0>, _json={'id': 1410950779913990144, 'id_str': '1410950779913990144', 'name': 'Akhila Krishna K', 'screen_name': 'AkhilaKrishnaK6', 'location': '', 'description': 'IIT BOMBAY EE', 'url': None, 'entities': {'description': {'urls': []}}, 'protected': False, 'followers_count': 0, 'friends_count': 0, 'listed_count': 0, 'created_at': 'Fri Jul 02 13:19:52 +0000 2021', 'favourites_count': 0, 'utc_offset': None, 'time_zone': None, 'geo_enabled': False, 'verified': False, 'statuses_count': 1, 'lang': None, 'contributors_enabled': False, 'is_translator': False, 'is_translation_enabled': False, 'profile_background_color': 'F5F8FA', 'profile_background_image_url': None, 'profile_background_image_url_https': None, 'profile_background_tile': False, 'profile_image_url': 'http://abs.twimg.com/sticky/default_profile_images/default_profile_normal.png', 'profile_image_url_https': 'https://abs.twimg.com/sticky/default_profile_images/default_profile_normal.png', 'profile_link_color': '1DA1F2', 'profile_sidebar_border_color': 'C0DEED', 'profile_sidebar_fill_color': 'DDEEF6', 'profile_text_color': '333333', 'profile_use_background_image': True, 'has_extended_profile': True, 'default_profile': True, 'default_profile_image': True, 'following': False, 'follow_request_sent': False, 'notifications': False, 'translator_type': 'none', 'withheld_in_countries': []}, id=1410950779913990144, id_str='1410950779913990144', name='Akhila Krishna K', screen_name='AkhilaKrishnaK6', location='', description='IIT BOMBAY EE', url=None, entities={'description': {'urls': []}}, protected=False, followers_count=0, friends_count=0, listed_count=0, created_at=datetime.datetime(2021, 7, 2, 13, 19, 52), favourites_count=0, utc_offset=None, time_zone=None, geo_enabled=False, verified=False, statuses_count=1, lang=None, contributors_enabled=False, is_translator=False, is_translation_enabled=False, profile_background_color='F5F8FA', profile_background_image_url=None, profile_background_image_url_https=None, profile_background_tile=False, profile_image_url='http://abs.twimg.com/sticky/default_profile_images/default_profile_normal.png', profile_image_url_https='https://abs.twimg.com/sticky/default_profile_images/default_profile_normal.png', profile_link_color='1DA1F2', profile_sidebar_border_color='C0DEED', profile_sidebar_fill_color='DDEEF6', profile_text_color='333333', profile_use_background_image=True, has_extended_profile=True, default_profile=True, default_profile_image=True, following=False, follow_request_sent=False, notifications=False, translator_type='none', withheld_in_countries=[]), geo=None, coordinates=None, place=None, contributors=None, is_quote_status=False, retweet_count=0, favorite_count=0, favorited=False, retweeted=False, lang='en')"
            ]
          },
          "metadata": {
            "tags": []
          },
          "execution_count": 145
        }
      ]
    },
    {
      "cell_type": "code",
      "metadata": {
        "id": "CX7_ixdVv1eT",
        "colab": {
          "base_uri": "https://localhost:8080/"
        },
        "outputId": "8a7e4540-14ad-47be-95e7-c94331ca7d8a"
      },
      "source": [
        "#api.update_status(status=\"Hello Everyone\")"
      ],
      "execution_count": null,
      "outputs": [
        {
          "output_type": "execute_result",
          "data": {
            "text/plain": [
              "Status(_api=<tweepy.api.API object at 0x7f9bdb06f1d0>, _json={'created_at': 'Sat Jul 03 17:28:57 +0000 2021', 'id': 1411376428709462031, 'id_str': '1411376428709462031', 'text': 'Hello Everyone', 'truncated': False, 'entities': {'hashtags': [], 'symbols': [], 'user_mentions': [], 'urls': []}, 'source': '<a href=\"https://help.twitter.com/en/using-twitter/how-to-tweet#source-labels\" rel=\"nofollow\">CredaPP1</a>', 'in_reply_to_status_id': None, 'in_reply_to_status_id_str': None, 'in_reply_to_user_id': None, 'in_reply_to_user_id_str': None, 'in_reply_to_screen_name': None, 'user': {'id': 1410950779913990144, 'id_str': '1410950779913990144', 'name': 'Akhila Krishna K', 'screen_name': 'AkhilaKrishnaK6', 'location': '', 'description': 'IIT BOMBAY EE', 'url': None, 'entities': {'description': {'urls': []}}, 'protected': False, 'followers_count': 0, 'friends_count': 0, 'listed_count': 0, 'created_at': 'Fri Jul 02 13:19:52 +0000 2021', 'favourites_count': 0, 'utc_offset': None, 'time_zone': None, 'geo_enabled': False, 'verified': False, 'statuses_count': 1, 'lang': None, 'contributors_enabled': False, 'is_translator': False, 'is_translation_enabled': False, 'profile_background_color': 'F5F8FA', 'profile_background_image_url': None, 'profile_background_image_url_https': None, 'profile_background_tile': False, 'profile_image_url': 'http://abs.twimg.com/sticky/default_profile_images/default_profile_normal.png', 'profile_image_url_https': 'https://abs.twimg.com/sticky/default_profile_images/default_profile_normal.png', 'profile_link_color': '1DA1F2', 'profile_sidebar_border_color': 'C0DEED', 'profile_sidebar_fill_color': 'DDEEF6', 'profile_text_color': '333333', 'profile_use_background_image': True, 'has_extended_profile': True, 'default_profile': True, 'default_profile_image': True, 'following': False, 'follow_request_sent': False, 'notifications': False, 'translator_type': 'none', 'withheld_in_countries': []}, 'geo': None, 'coordinates': None, 'place': None, 'contributors': None, 'is_quote_status': False, 'retweet_count': 0, 'favorite_count': 0, 'favorited': False, 'retweeted': False, 'lang': 'en'}, created_at=datetime.datetime(2021, 7, 3, 17, 28, 57), id=1411376428709462031, id_str='1411376428709462031', text='Hello Everyone', truncated=False, entities={'hashtags': [], 'symbols': [], 'user_mentions': [], 'urls': []}, source='CredaPP1', source_url='https://help.twitter.com/en/using-twitter/how-to-tweet#source-labels', in_reply_to_status_id=None, in_reply_to_status_id_str=None, in_reply_to_user_id=None, in_reply_to_user_id_str=None, in_reply_to_screen_name=None, author=User(_api=<tweepy.api.API object at 0x7f9bdb06f1d0>, _json={'id': 1410950779913990144, 'id_str': '1410950779913990144', 'name': 'Akhila Krishna K', 'screen_name': 'AkhilaKrishnaK6', 'location': '', 'description': 'IIT BOMBAY EE', 'url': None, 'entities': {'description': {'urls': []}}, 'protected': False, 'followers_count': 0, 'friends_count': 0, 'listed_count': 0, 'created_at': 'Fri Jul 02 13:19:52 +0000 2021', 'favourites_count': 0, 'utc_offset': None, 'time_zone': None, 'geo_enabled': False, 'verified': False, 'statuses_count': 1, 'lang': None, 'contributors_enabled': False, 'is_translator': False, 'is_translation_enabled': False, 'profile_background_color': 'F5F8FA', 'profile_background_image_url': None, 'profile_background_image_url_https': None, 'profile_background_tile': False, 'profile_image_url': 'http://abs.twimg.com/sticky/default_profile_images/default_profile_normal.png', 'profile_image_url_https': 'https://abs.twimg.com/sticky/default_profile_images/default_profile_normal.png', 'profile_link_color': '1DA1F2', 'profile_sidebar_border_color': 'C0DEED', 'profile_sidebar_fill_color': 'DDEEF6', 'profile_text_color': '333333', 'profile_use_background_image': True, 'has_extended_profile': True, 'default_profile': True, 'default_profile_image': True, 'following': False, 'follow_request_sent': False, 'notifications': False, 'translator_type': 'none', 'withheld_in_countries': []}, id=1410950779913990144, id_str='1410950779913990144', name='Akhila Krishna K', screen_name='AkhilaKrishnaK6', location='', description='IIT BOMBAY EE', url=None, entities={'description': {'urls': []}}, protected=False, followers_count=0, friends_count=0, listed_count=0, created_at=datetime.datetime(2021, 7, 2, 13, 19, 52), favourites_count=0, utc_offset=None, time_zone=None, geo_enabled=False, verified=False, statuses_count=1, lang=None, contributors_enabled=False, is_translator=False, is_translation_enabled=False, profile_background_color='F5F8FA', profile_background_image_url=None, profile_background_image_url_https=None, profile_background_tile=False, profile_image_url='http://abs.twimg.com/sticky/default_profile_images/default_profile_normal.png', profile_image_url_https='https://abs.twimg.com/sticky/default_profile_images/default_profile_normal.png', profile_link_color='1DA1F2', profile_sidebar_border_color='C0DEED', profile_sidebar_fill_color='DDEEF6', profile_text_color='333333', profile_use_background_image=True, has_extended_profile=True, default_profile=True, default_profile_image=True, following=False, follow_request_sent=False, notifications=False, translator_type='none', withheld_in_countries=[]), user=User(_api=<tweepy.api.API object at 0x7f9bdb06f1d0>, _json={'id': 1410950779913990144, 'id_str': '1410950779913990144', 'name': 'Akhila Krishna K', 'screen_name': 'AkhilaKrishnaK6', 'location': '', 'description': 'IIT BOMBAY EE', 'url': None, 'entities': {'description': {'urls': []}}, 'protected': False, 'followers_count': 0, 'friends_count': 0, 'listed_count': 0, 'created_at': 'Fri Jul 02 13:19:52 +0000 2021', 'favourites_count': 0, 'utc_offset': None, 'time_zone': None, 'geo_enabled': False, 'verified': False, 'statuses_count': 1, 'lang': None, 'contributors_enabled': False, 'is_translator': False, 'is_translation_enabled': False, 'profile_background_color': 'F5F8FA', 'profile_background_image_url': None, 'profile_background_image_url_https': None, 'profile_background_tile': False, 'profile_image_url': 'http://abs.twimg.com/sticky/default_profile_images/default_profile_normal.png', 'profile_image_url_https': 'https://abs.twimg.com/sticky/default_profile_images/default_profile_normal.png', 'profile_link_color': '1DA1F2', 'profile_sidebar_border_color': 'C0DEED', 'profile_sidebar_fill_color': 'DDEEF6', 'profile_text_color': '333333', 'profile_use_background_image': True, 'has_extended_profile': True, 'default_profile': True, 'default_profile_image': True, 'following': False, 'follow_request_sent': False, 'notifications': False, 'translator_type': 'none', 'withheld_in_countries': []}, id=1410950779913990144, id_str='1410950779913990144', name='Akhila Krishna K', screen_name='AkhilaKrishnaK6', location='', description='IIT BOMBAY EE', url=None, entities={'description': {'urls': []}}, protected=False, followers_count=0, friends_count=0, listed_count=0, created_at=datetime.datetime(2021, 7, 2, 13, 19, 52), favourites_count=0, utc_offset=None, time_zone=None, geo_enabled=False, verified=False, statuses_count=1, lang=None, contributors_enabled=False, is_translator=False, is_translation_enabled=False, profile_background_color='F5F8FA', profile_background_image_url=None, profile_background_image_url_https=None, profile_background_tile=False, profile_image_url='http://abs.twimg.com/sticky/default_profile_images/default_profile_normal.png', profile_image_url_https='https://abs.twimg.com/sticky/default_profile_images/default_profile_normal.png', profile_link_color='1DA1F2', profile_sidebar_border_color='C0DEED', profile_sidebar_fill_color='DDEEF6', profile_text_color='333333', profile_use_background_image=True, has_extended_profile=True, default_profile=True, default_profile_image=True, following=False, follow_request_sent=False, notifications=False, translator_type='none', withheld_in_countries=[]), geo=None, coordinates=None, place=None, contributors=None, is_quote_status=False, retweet_count=0, favorite_count=0, favorited=False, retweeted=False, lang='en')"
            ]
          },
          "metadata": {
            "tags": []
          },
          "execution_count": 147
        }
      ]
    },
    {
      "cell_type": "code",
      "metadata": {
        "id": "fRqVbL46vKT6"
      },
      "source": [
        "#storing in the drive"
      ],
      "execution_count": null,
      "outputs": []
    },
    {
      "cell_type": "code",
      "metadata": {
        "id": "41hAWr-pvPVa"
      },
      "source": [
        "df.to_csv('Latest_month.csv')\n",
        "!cp Latest_month.csv \"/content/gdrive/MyDrive/Slice\""
      ],
      "execution_count": null,
      "outputs": []
    },
    {
      "cell_type": "code",
      "metadata": {
        "id": "Ub1J1lHNishK"
      },
      "source": [
        "df1.to_csv('Prev_month.csv')\n",
        "!cp Prev_month.csv \"/content/gdrive/MyDrive/Slice\""
      ],
      "execution_count": null,
      "outputs": []
    },
    {
      "cell_type": "code",
      "metadata": {
        "id": "PBVO0q99kouc"
      },
      "source": [
        ""
      ],
      "execution_count": null,
      "outputs": []
    },
    {
      "cell_type": "code",
      "metadata": {
        "id": "Vx3msK5cx0Aj"
      },
      "source": [
        ""
      ],
      "execution_count": null,
      "outputs": []
    },
    {
      "cell_type": "code",
      "metadata": {
        "id": "HTJACa8ilER-"
      },
      "source": [
        ""
      ],
      "execution_count": null,
      "outputs": []
    },
    {
      "cell_type": "code",
      "metadata": {
        "id": "yjj-fj2umJjJ"
      },
      "source": [
        ""
      ],
      "execution_count": null,
      "outputs": []
    },
    {
      "cell_type": "code",
      "metadata": {
        "id": "WofcovGPmTGk"
      },
      "source": [
        ""
      ],
      "execution_count": null,
      "outputs": []
    },
    {
      "cell_type": "code",
      "metadata": {
        "id": "hK2rNOmOmimq"
      },
      "source": [
        ""
      ],
      "execution_count": null,
      "outputs": []
    },
    {
      "cell_type": "code",
      "metadata": {
        "id": "L6RbQeGYmmA-"
      },
      "source": [
        ""
      ],
      "execution_count": null,
      "outputs": []
    },
    {
      "cell_type": "code",
      "metadata": {
        "id": "QMKtNwfFmr5C"
      },
      "source": [
        ""
      ],
      "execution_count": null,
      "outputs": []
    },
    {
      "cell_type": "code",
      "metadata": {
        "id": "VyWtZ89jnEZV"
      },
      "source": [
        ""
      ],
      "execution_count": null,
      "outputs": []
    }
  ]
}